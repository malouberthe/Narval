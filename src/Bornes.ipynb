{
 "cells": [
  {
   "cell_type": "code",
   "execution_count": 12,
   "id": "686443f5",
   "metadata": {},
   "outputs": [],
   "source": [
    "import pandas as pd"
   ]
  },
  {
   "cell_type": "code",
   "execution_count": 14,
   "id": "eed7cfa3-c317-4cd2-a036-3087ecab0375",
   "metadata": {},
   "outputs": [],
   "source": [
    "import re"
   ]
  },
  {
   "cell_type": "markdown",
   "id": "ac339c3a",
   "metadata": {},
   "source": [
    "## Séléctionner les réponses"
   ]
  },
  {
   "cell_type": "code",
   "execution_count": 32,
   "id": "a1a89bdd",
   "metadata": {},
   "outputs": [],
   "source": [
    "myset=['', '233,14 228,08 229,53', '5.43', '3,24', '494,17', '3,51', '388,92', ' 45 678']"
   ]
  },
  {
   "cell_type": "markdown",
   "id": "3cbc8ab9",
   "metadata": {
    "jp-MarkdownHeadingCollapsed": true
   },
   "source": [
    "### on supprime les espace entre 1 chiffre suivi de 3 (milliers)"
   ]
  },
  {
   "cell_type": "code",
   "execution_count": 3,
   "id": "dad12848",
   "metadata": {},
   "outputs": [],
   "source": [
    "def milliers(text):\n",
    "    regex= r\"(?<!\\,..)(?<=\\d) (?=\\d\\d\\d)\"\n",
    "    return re.sub(regex,\"\",text)\n",
    "def point(text):\n",
    "    return re.sub(\"\\,\",\".\",text)"
   ]
  },
  {
   "cell_type": "code",
   "execution_count": 51,
   "id": "6eb661e8",
   "metadata": {},
   "outputs": [
    {
     "data": {
      "text/plain": [
       "['',\n",
       " '233,14 228,08 229,53',\n",
       " '5.43',\n",
       " '3,24',\n",
       " '494,17',\n",
       " '3,51',\n",
       " '388,92',\n",
       " ' 45678']"
      ]
     },
     "execution_count": 51,
     "metadata": {},
     "output_type": "execute_result"
    }
   ],
   "source": [
    "output_list = list(map(milliers, myset))\n",
    "output_list"
   ]
  },
  {
   "cell_type": "markdown",
   "id": "b8018388",
   "metadata": {
    "jp-MarkdownHeadingCollapsed": true
   },
   "source": [
    "### on split à chaque fois que l'on trouve un autre espace "
   ]
  },
  {
   "cell_type": "code",
   "execution_count": 36,
   "id": "d8cfb16e",
   "metadata": {},
   "outputs": [],
   "source": [
    "result = [item.split(' ') for item in output_list]"
   ]
  },
  {
   "cell_type": "code",
   "execution_count": 37,
   "id": "cb674d39",
   "metadata": {},
   "outputs": [
    {
     "data": {
      "text/plain": [
       "[[''],\n",
       " ['233,14', '228,08', '229,53'],\n",
       " ['5.43'],\n",
       " ['3,24'],\n",
       " ['494,17'],\n",
       " ['3,51'],\n",
       " ['388,92'],\n",
       " ['', '45678']]"
      ]
     },
     "execution_count": 37,
     "metadata": {},
     "output_type": "execute_result"
    }
   ],
   "source": [
    "result"
   ]
  },
  {
   "cell_type": "code",
   "execution_count": 52,
   "id": "9d99a93c",
   "metadata": {},
   "outputs": [
    {
     "data": {
      "text/plain": [
       "['',\n",
       " '233,14',\n",
       " '228,08',\n",
       " '229,53',\n",
       " '5.43',\n",
       " '3,24',\n",
       " '494,17',\n",
       " '3,51',\n",
       " '388,92',\n",
       " '',\n",
       " '45678']"
      ]
     },
     "execution_count": 52,
     "metadata": {},
     "output_type": "execute_result"
    }
   ],
   "source": [
    "final=[]\n",
    "for i in result:\n",
    "    for j in i:\n",
    "        final.append(j)\n",
    "final"
   ]
  },
  {
   "cell_type": "code",
   "execution_count": 55,
   "id": "4b4ef6e7",
   "metadata": {},
   "outputs": [],
   "source": [
    "for i in final:\n",
    "    if (re.findall('\\d+',i)==[]):\n",
    "        final.remove(i)\n",
    "        "
   ]
  },
  {
   "cell_type": "code",
   "execution_count": 56,
   "id": "a3a9ce88",
   "metadata": {},
   "outputs": [],
   "source": [
    "final= list(map(point,final))"
   ]
  },
  {
   "cell_type": "code",
   "execution_count": 57,
   "id": "5d92264c",
   "metadata": {},
   "outputs": [
    {
     "data": {
      "text/plain": [
       "['233.14',\n",
       " '228.08',\n",
       " '229.53',\n",
       " '5.43',\n",
       " '3.24',\n",
       " '494.17',\n",
       " '3.51',\n",
       " '388.92',\n",
       " '45678']"
      ]
     },
     "execution_count": 57,
     "metadata": {},
     "output_type": "execute_result"
    }
   ],
   "source": [
    "final"
   ]
  },
  {
   "cell_type": "markdown",
   "id": "ad4e22c9",
   "metadata": {
    "jp-MarkdownHeadingCollapsed": true
   },
   "source": [
    "## Borner les réponses"
   ]
  },
  {
   "cell_type": "code",
   "execution_count": 31,
   "id": "9b3c44b8",
   "metadata": {},
   "outputs": [
    {
     "data": {
      "text/plain": [
       "{' 45 678', '233,14 228,08 229,53', '3,24', '3,51', '388,92', '494,17', '5.43'}"
      ]
     },
     "execution_count": 31,
     "metadata": {},
     "output_type": "execute_result"
    }
   ],
   "source": [
    "set(myset)"
   ]
  },
  {
   "cell_type": "code",
   "execution_count": 65,
   "id": "729d81fb",
   "metadata": {},
   "outputs": [],
   "source": [
    "mylist = []\n",
    "for item in final:\n",
    "    mylist.append(float(item))"
   ]
  },
  {
   "cell_type": "code",
   "execution_count": 66,
   "id": "f18463d8",
   "metadata": {},
   "outputs": [
    {
     "data": {
      "text/plain": [
       "float"
      ]
     },
     "execution_count": 66,
     "metadata": {},
     "output_type": "execute_result"
    }
   ],
   "source": [
    "type(mylist[0])"
   ]
  },
  {
   "cell_type": "code",
   "execution_count": 67,
   "id": "55d04f8c",
   "metadata": {},
   "outputs": [],
   "source": [
    "temp=set()\n",
    "for x in mylist:\n",
    "    if (x>30) or (x<0):\n",
    "        temp.add(x)\n",
    "for x in temp:\n",
    "    mylist.remove(x)"
   ]
  },
  {
   "cell_type": "code",
   "execution_count": 68,
   "id": "34b7eb11",
   "metadata": {},
   "outputs": [
    {
     "data": {
      "text/plain": [
       "[5.43, 3.24, 3.51]"
      ]
     },
     "execution_count": 68,
     "metadata": {},
     "output_type": "execute_result"
    }
   ],
   "source": [
    "mylist"
   ]
  },
  {
   "cell_type": "markdown",
   "id": "a52baf38",
   "metadata": {
    "jp-MarkdownHeadingCollapsed": true
   },
   "source": [
    "# Test n2"
   ]
  },
  {
   "cell_type": "code",
   "execution_count": 4,
   "id": "9ce37754",
   "metadata": {},
   "outputs": [],
   "source": [
    "mylist=['480', '234 528 64', '0', '53,89', '53.89']"
   ]
  },
  {
   "cell_type": "code",
   "execution_count": 7,
   "id": "24df7433",
   "metadata": {},
   "outputs": [],
   "source": [
    "output_list = list(map(point, mylist))\n",
    "#output_list"
   ]
  },
  {
   "cell_type": "code",
   "execution_count": 10,
   "id": "461a4c1d",
   "metadata": {},
   "outputs": [
    {
     "data": {
      "text/plain": [
       "[['480'], ['234', '528', '64'], ['0'], ['53.89'], ['53.89']]"
      ]
     },
     "execution_count": 10,
     "metadata": {},
     "output_type": "execute_result"
    }
   ],
   "source": [
    "result = [item.split(' ') for item in output_list]\n",
    "result"
   ]
  },
  {
   "cell_type": "code",
   "execution_count": 9,
   "id": "3778c02c",
   "metadata": {},
   "outputs": [
    {
     "data": {
      "text/plain": [
       "['480', '234', '528', '64', '0', '53.89', '53.89']"
      ]
     },
     "execution_count": 9,
     "metadata": {},
     "output_type": "execute_result"
    }
   ],
   "source": [
    "final=[]\n",
    "for i in result:\n",
    "    for j in i:\n",
    "        final.append(j)\n",
    "final"
   ]
  },
  {
   "cell_type": "code",
   "execution_count": 11,
   "id": "042d2dc9",
   "metadata": {},
   "outputs": [],
   "source": [
    "for i in final:\n",
    "    if (re.findall('\\d+',i)==[]):\n",
    "        final.remove(i)\n",
    "   "
   ]
  },
  {
   "cell_type": "code",
   "execution_count": 12,
   "id": "612dcc77",
   "metadata": {},
   "outputs": [],
   "source": [
    "final= list(map(point,final))"
   ]
  },
  {
   "cell_type": "code",
   "execution_count": 13,
   "id": "2bf17641",
   "metadata": {},
   "outputs": [],
   "source": [
    "mylist = []\n",
    "for item in final:\n",
    "    mylist.append(float(item))"
   ]
  },
  {
   "cell_type": "code",
   "execution_count": 14,
   "id": "1d7ef9e9",
   "metadata": {},
   "outputs": [],
   "source": [
    "temp=set()\n",
    "for x in mylist:\n",
    "    if (x<0):\n",
    "        temp.add(x)\n",
    "for x in temp:\n",
    "    mylist.remove(x)"
   ]
  },
  {
   "cell_type": "code",
   "execution_count": 15,
   "id": "00dc0912",
   "metadata": {},
   "outputs": [
    {
     "data": {
      "text/plain": [
       "[480.0, 234.0, 528.0, 64.0, 0.0, 53.89, 53.89]"
      ]
     },
     "execution_count": 15,
     "metadata": {},
     "output_type": "execute_result"
    }
   ],
   "source": [
    "mylist"
   ]
  },
  {
   "cell_type": "code",
   "execution_count": 16,
   "id": "667a9c0f",
   "metadata": {},
   "outputs": [],
   "source": [
    "myset=set(mylist)"
   ]
  },
  {
   "cell_type": "code",
   "execution_count": 17,
   "id": "c6fca48f",
   "metadata": {},
   "outputs": [
    {
     "data": {
      "text/plain": [
       "{0.0, 53.89, 64.0, 234.0, 480.0, 528.0}"
      ]
     },
     "execution_count": 17,
     "metadata": {},
     "output_type": "execute_result"
    }
   ],
   "source": [
    "myset"
   ]
  },
  {
   "cell_type": "markdown",
   "id": "c971e9ad",
   "metadata": {
    "jp-MarkdownHeadingCollapsed": true
   },
   "source": [
    "# Test n3"
   ]
  },
  {
   "cell_type": "code",
   "execution_count": 117,
   "id": "9a00144d",
   "metadata": {},
   "outputs": [],
   "source": [
    "mylist=['2019', '0 10', '20 20', '1000', '0', '75 120', '75']"
   ]
  },
  {
   "cell_type": "code",
   "execution_count": 118,
   "id": "d04f5060",
   "metadata": {},
   "outputs": [
    {
     "data": {
      "text/plain": [
       "['2019', '0 10', '20 20', '1000', '0', '75120', '75']"
      ]
     },
     "execution_count": 118,
     "metadata": {},
     "output_type": "execute_result"
    }
   ],
   "source": [
    "output_list = list(map(milliers, mylist))\n",
    "output_list"
   ]
  },
  {
   "cell_type": "code",
   "execution_count": 119,
   "id": "73943afe",
   "metadata": {},
   "outputs": [],
   "source": [
    "result = [item.split(' ') for item in output_list]"
   ]
  },
  {
   "cell_type": "code",
   "execution_count": 120,
   "id": "2be145f7",
   "metadata": {},
   "outputs": [
    {
     "data": {
      "text/plain": [
       "['2019', '0', '10', '20', '20', '1000', '0', '75120', '75']"
      ]
     },
     "execution_count": 120,
     "metadata": {},
     "output_type": "execute_result"
    }
   ],
   "source": [
    "final=[]\n",
    "for i in result:\n",
    "    for j in i:\n",
    "        final.append(j)\n",
    "final"
   ]
  },
  {
   "cell_type": "code",
   "execution_count": 122,
   "id": "7da08460",
   "metadata": {},
   "outputs": [],
   "source": [
    "for i in final:\n",
    "    if (re.findall('\\d+',i)==[]):\n",
    "        final.remove(i)\n",
    "final= list(map(point,final))   "
   ]
  },
  {
   "cell_type": "code",
   "execution_count": 123,
   "id": "2714a9a8",
   "metadata": {},
   "outputs": [],
   "source": [
    "mylist = []\n",
    "for item in final:\n",
    "    mylist.append(float(item))"
   ]
  },
  {
   "cell_type": "code",
   "execution_count": 128,
   "id": "4e7aaeca",
   "metadata": {},
   "outputs": [],
   "source": [
    "temp=set()\n",
    "for x in mylist:\n",
    "    if (x<0) or (x>120):\n",
    "        temp.add(x)\n",
    "for x in temp:\n",
    "    mylist.remove(x)"
   ]
  },
  {
   "cell_type": "code",
   "execution_count": 129,
   "id": "fc53f3d0",
   "metadata": {},
   "outputs": [
    {
     "data": {
      "text/plain": [
       "[0.0, 10.0, 20.0, 20.0, 0.0, 75.0]"
      ]
     },
     "execution_count": 129,
     "metadata": {},
     "output_type": "execute_result"
    }
   ],
   "source": [
    "mylist"
   ]
  },
  {
   "cell_type": "code",
   "execution_count": 130,
   "id": "da1fbd3f",
   "metadata": {},
   "outputs": [],
   "source": [
    "myset=set(mylist)"
   ]
  },
  {
   "cell_type": "code",
   "execution_count": 131,
   "id": "318b2e0e",
   "metadata": {},
   "outputs": [
    {
     "data": {
      "text/plain": [
       "{0.0, 10.0, 20.0, 75.0}"
      ]
     },
     "execution_count": 131,
     "metadata": {},
     "output_type": "execute_result"
    }
   ],
   "source": [
    "myset"
   ]
  },
  {
   "cell_type": "markdown",
   "id": "c2bdc097",
   "metadata": {
    "jp-MarkdownHeadingCollapsed": true
   },
   "source": [
    "# Test n4"
   ]
  },
  {
   "cell_type": "code",
   "execution_count": 133,
   "id": "8809b7f0",
   "metadata": {},
   "outputs": [],
   "source": [
    "mylist=['2021', '', '100', '98,1 100 890 683']"
   ]
  },
  {
   "cell_type": "code",
   "execution_count": 136,
   "id": "25dc3eae",
   "metadata": {},
   "outputs": [],
   "source": [
    "result = [item.split(' ') for item in mylist]"
   ]
  },
  {
   "cell_type": "code",
   "execution_count": 137,
   "id": "48510d8a",
   "metadata": {},
   "outputs": [
    {
     "data": {
      "text/plain": [
       "['2021', '', '100', '98,1', '100', '890', '683']"
      ]
     },
     "execution_count": 137,
     "metadata": {},
     "output_type": "execute_result"
    }
   ],
   "source": [
    "final=[]\n",
    "for i in result:\n",
    "    for j in i:\n",
    "        final.append(j)\n",
    "final"
   ]
  },
  {
   "cell_type": "code",
   "execution_count": 138,
   "id": "521ff2c2",
   "metadata": {},
   "outputs": [],
   "source": [
    "for i in final:\n",
    "    if (re.findall('\\d+',i)==[]):\n",
    "        final.remove(i)\n",
    "final= list(map(point,final)) "
   ]
  },
  {
   "cell_type": "code",
   "execution_count": 139,
   "id": "763d6ad6",
   "metadata": {},
   "outputs": [],
   "source": [
    "mylist = []\n",
    "for item in final:\n",
    "    mylist.append(float(item))"
   ]
  },
  {
   "cell_type": "code",
   "execution_count": 140,
   "id": "c9156cb6",
   "metadata": {},
   "outputs": [],
   "source": [
    "temp=set()\n",
    "for x in mylist:\n",
    "    if (x<25) or (x>100):\n",
    "        temp.add(x)\n",
    "for x in temp:\n",
    "    mylist.remove(x)"
   ]
  },
  {
   "cell_type": "code",
   "execution_count": 141,
   "id": "88800257",
   "metadata": {},
   "outputs": [],
   "source": [
    "myset=set(mylist)"
   ]
  },
  {
   "cell_type": "code",
   "execution_count": 142,
   "id": "a33a4008",
   "metadata": {},
   "outputs": [
    {
     "data": {
      "text/plain": [
       "{98.1, 100.0}"
      ]
     },
     "execution_count": 142,
     "metadata": {},
     "output_type": "execute_result"
    }
   ],
   "source": [
    "myset"
   ]
  },
  {
   "cell_type": "markdown",
   "id": "b384273c",
   "metadata": {
    "jp-MarkdownHeadingCollapsed": true
   },
   "source": [
    "# Test n5: Elbeuf P103.2"
   ]
  },
  {
   "cell_type": "code",
   "execution_count": 143,
   "id": "20dfa00f",
   "metadata": {},
   "outputs": [],
   "source": [
    "mylist=['', '3.2', '100 100', '0', '100', '120 100', '3.1 102']"
   ]
  },
  {
   "cell_type": "code",
   "execution_count": 144,
   "id": "64288f3c",
   "metadata": {},
   "outputs": [],
   "source": [
    "result = [item.split(' ') for item in mylist]"
   ]
  },
  {
   "cell_type": "code",
   "execution_count": 145,
   "id": "adf40c71",
   "metadata": {},
   "outputs": [
    {
     "data": {
      "text/plain": [
       "['', '3.2', '100', '100', '0', '100', '120', '100', '3.1', '102']"
      ]
     },
     "execution_count": 145,
     "metadata": {},
     "output_type": "execute_result"
    }
   ],
   "source": [
    "final=[]\n",
    "for i in result:\n",
    "    for j in i:\n",
    "        final.append(j)\n",
    "final"
   ]
  },
  {
   "cell_type": "code",
   "execution_count": 146,
   "id": "8be5ea57",
   "metadata": {},
   "outputs": [],
   "source": [
    "for i in final:\n",
    "    if (re.findall('\\d+',i)==[]):\n",
    "        final.remove(i)\n",
    "final= list(map(point,final))"
   ]
  },
  {
   "cell_type": "code",
   "execution_count": 147,
   "id": "72d11cd3",
   "metadata": {},
   "outputs": [],
   "source": [
    "mylist = []\n",
    "for item in final:\n",
    "    mylist.append(float(item))"
   ]
  },
  {
   "cell_type": "code",
   "execution_count": 150,
   "id": "b9ed608c",
   "metadata": {},
   "outputs": [],
   "source": [
    "temp=set()\n",
    "for x in mylist:\n",
    "    if (x<0) or (x>120):\n",
    "        temp.add(x)\n",
    "for x in temp:\n",
    "    mylist.remove(x)"
   ]
  },
  {
   "cell_type": "code",
   "execution_count": 151,
   "id": "8bc97fe5",
   "metadata": {},
   "outputs": [],
   "source": [
    "myset=set(mylist)"
   ]
  },
  {
   "cell_type": "code",
   "execution_count": 152,
   "id": "887efe9d",
   "metadata": {},
   "outputs": [
    {
     "data": {
      "text/plain": [
       "{100.0}"
      ]
     },
     "execution_count": 152,
     "metadata": {},
     "output_type": "execute_result"
    }
   ],
   "source": [
    "myset"
   ]
  },
  {
   "cell_type": "markdown",
   "id": "6ac89af0",
   "metadata": {
    "jp-MarkdownHeadingCollapsed": true
   },
   "source": [
    "# elbeuf P107.2"
   ]
  },
  {
   "cell_type": "code",
   "execution_count": 154,
   "id": "f9aff39e",
   "metadata": {},
   "outputs": [],
   "source": [
    "mylist=['0,75 0', '17', '3.4', '2017', '0']"
   ]
  },
  {
   "cell_type": "code",
   "execution_count": 155,
   "id": "7571e6d8",
   "metadata": {},
   "outputs": [],
   "source": [
    "result = [item.split(' ') for item in mylist]"
   ]
  },
  {
   "cell_type": "code",
   "execution_count": 156,
   "id": "9436b570",
   "metadata": {},
   "outputs": [
    {
     "data": {
      "text/plain": [
       "['0,75', '0', '17', '3.4', '2017', '0']"
      ]
     },
     "execution_count": 156,
     "metadata": {},
     "output_type": "execute_result"
    }
   ],
   "source": [
    "final=[]\n",
    "for i in result:\n",
    "    for j in i:\n",
    "        final.append(j)\n",
    "final"
   ]
  },
  {
   "cell_type": "code",
   "execution_count": 157,
   "id": "414dbf92",
   "metadata": {},
   "outputs": [],
   "source": [
    "for i in final:\n",
    "    if (re.findall('\\d+',i)==[]):\n",
    "        final.remove(i)\n",
    "final= list(map(point,final))"
   ]
  },
  {
   "cell_type": "code",
   "execution_count": 158,
   "id": "a4fcb3a1",
   "metadata": {},
   "outputs": [],
   "source": [
    "mylist = []\n",
    "for item in final:\n",
    "    mylist.append(float(item))"
   ]
  },
  {
   "cell_type": "code",
   "execution_count": 159,
   "id": "4874c4a9",
   "metadata": {},
   "outputs": [],
   "source": [
    "temp=set()\n",
    "for x in mylist:\n",
    "    if (x<0) or (x>3):\n",
    "        temp.add(x)\n",
    "for x in temp:\n",
    "    mylist.remove(x)"
   ]
  },
  {
   "cell_type": "code",
   "execution_count": 160,
   "id": "27000870",
   "metadata": {},
   "outputs": [],
   "source": [
    "myset=set(mylist)"
   ]
  },
  {
   "cell_type": "code",
   "execution_count": 161,
   "id": "44bca902",
   "metadata": {},
   "outputs": [
    {
     "data": {
      "text/plain": [
       "{0.0, 0.75}"
      ]
     },
     "execution_count": 161,
     "metadata": {},
     "output_type": "execute_result"
    }
   ],
   "source": [
    "myset"
   ]
  },
  {
   "cell_type": "markdown",
   "id": "f02c69a8",
   "metadata": {},
   "source": [
    "# Bornes enregistrées dans csv "
   ]
  },
  {
   "cell_type": "markdown",
   "id": "3fc2f325",
   "metadata": {
    "jp-MarkdownHeadingCollapsed": true
   },
   "source": [
    "## P107.2"
   ]
  },
  {
   "cell_type": "code",
   "execution_count": 1,
   "id": "d9a0d610",
   "metadata": {},
   "outputs": [
    {
     "data": {
      "text/html": [
       "<div>\n",
       "<style scoped>\n",
       "    .dataframe tbody tr th:only-of-type {\n",
       "        vertical-align: middle;\n",
       "    }\n",
       "\n",
       "    .dataframe tbody tr th {\n",
       "        vertical-align: top;\n",
       "    }\n",
       "\n",
       "    .dataframe thead th {\n",
       "        text-align: right;\n",
       "    }\n",
       "</style>\n",
       "<table border=\"1\" class=\"dataframe\">\n",
       "  <thead>\n",
       "    <tr style=\"text-align: right;\">\n",
       "      <th></th>\n",
       "      <th>indic</th>\n",
       "      <th>min</th>\n",
       "      <th>max</th>\n",
       "    </tr>\n",
       "  </thead>\n",
       "  <tbody>\n",
       "    <tr>\n",
       "      <th>0</th>\n",
       "      <td>D101.0</td>\n",
       "      <td>0.0</td>\n",
       "      <td>5.000000e+10</td>\n",
       "    </tr>\n",
       "    <tr>\n",
       "      <th>1</th>\n",
       "      <td>D102.0</td>\n",
       "      <td>1.0</td>\n",
       "      <td>4.000000e+00</td>\n",
       "    </tr>\n",
       "    <tr>\n",
       "      <th>2</th>\n",
       "      <td>D151.0</td>\n",
       "      <td>1.0</td>\n",
       "      <td>1.000000e+01</td>\n",
       "    </tr>\n",
       "    <tr>\n",
       "      <th>3</th>\n",
       "      <td>P101.1</td>\n",
       "      <td>25.0</td>\n",
       "      <td>1.000000e+02</td>\n",
       "    </tr>\n",
       "    <tr>\n",
       "      <th>4</th>\n",
       "      <td>P102.1</td>\n",
       "      <td>25.0</td>\n",
       "      <td>1.000000e+02</td>\n",
       "    </tr>\n",
       "    <tr>\n",
       "      <th>5</th>\n",
       "      <td>P103.2B</td>\n",
       "      <td>0.0</td>\n",
       "      <td>1.200000e+02</td>\n",
       "    </tr>\n",
       "    <tr>\n",
       "      <th>6</th>\n",
       "      <td>P103.2</td>\n",
       "      <td>0.0</td>\n",
       "      <td>1.200000e+02</td>\n",
       "    </tr>\n",
       "    <tr>\n",
       "      <th>7</th>\n",
       "      <td>P104.3</td>\n",
       "      <td>50.0</td>\n",
       "      <td>9.500000e+01</td>\n",
       "    </tr>\n",
       "    <tr>\n",
       "      <th>8</th>\n",
       "      <td>P105.3</td>\n",
       "      <td>0.1</td>\n",
       "      <td>2.000000e+01</td>\n",
       "    </tr>\n",
       "    <tr>\n",
       "      <th>9</th>\n",
       "      <td>P106.3</td>\n",
       "      <td>0.1</td>\n",
       "      <td>2.000000e+01</td>\n",
       "    </tr>\n",
       "  </tbody>\n",
       "</table>\n",
       "</div>"
      ],
      "text/plain": [
       "     indic   min           max\n",
       "0   D101.0   0.0  5.000000e+10\n",
       "1   D102.0   1.0  4.000000e+00\n",
       "2   D151.0   1.0  1.000000e+01\n",
       "3   P101.1  25.0  1.000000e+02\n",
       "4   P102.1  25.0  1.000000e+02\n",
       "5  P103.2B   0.0  1.200000e+02\n",
       "6   P103.2   0.0  1.200000e+02\n",
       "7   P104.3  50.0  9.500000e+01\n",
       "8   P105.3   0.1  2.000000e+01\n",
       "9   P106.3   0.1  2.000000e+01"
      ]
     },
     "execution_count": 1,
     "metadata": {},
     "output_type": "execute_result"
    }
   ],
   "source": [
    "import pandas as pd\n",
    "\n",
    "df = pd.read_csv(r'C:\\Users\\malou.berthe\\Documents\\src\\bornes.csv')\n",
    "df.head(10)"
   ]
  },
  {
   "cell_type": "code",
   "execution_count": 2,
   "id": "c74bd807",
   "metadata": {},
   "outputs": [],
   "source": [
    "mylist=['0,75 0', '17', '3.4', '2017', '0']"
   ]
  },
  {
   "cell_type": "code",
   "execution_count": 165,
   "id": "7ce66fc8",
   "metadata": {},
   "outputs": [],
   "source": [
    "result = [item.split(' ') for item in mylist]"
   ]
  },
  {
   "cell_type": "code",
   "execution_count": 167,
   "id": "bda2dafc",
   "metadata": {},
   "outputs": [
    {
     "data": {
      "text/plain": [
       "['0,75', '0', '17', '3.4', '2017', '0']"
      ]
     },
     "execution_count": 167,
     "metadata": {},
     "output_type": "execute_result"
    }
   ],
   "source": [
    "final=[]\n",
    "for i in result:\n",
    "    for j in i:\n",
    "        final.append(j)\n",
    "final"
   ]
  },
  {
   "cell_type": "code",
   "execution_count": 168,
   "id": "d91ff95a",
   "metadata": {},
   "outputs": [],
   "source": [
    "for i in final:\n",
    "    if (re.findall('\\d+',i)==[]):\n",
    "        final.remove(i)\n",
    "final= list(map(point,final))"
   ]
  },
  {
   "cell_type": "code",
   "execution_count": 169,
   "id": "a4e1774f",
   "metadata": {},
   "outputs": [],
   "source": [
    "mylist = []\n",
    "for item in final:\n",
    "    mylist.append(float(item))"
   ]
  },
  {
   "cell_type": "code",
   "execution_count": 175,
   "id": "9b9e2c0f",
   "metadata": {},
   "outputs": [],
   "source": [
    "for i in df.index:\n",
    "    if df['indic'][i]=='P107.2':\n",
    "        v_min=df['min'][i]\n",
    "        v_max=df['max'][i]"
   ]
  },
  {
   "cell_type": "code",
   "execution_count": 176,
   "id": "ca68eedb",
   "metadata": {},
   "outputs": [],
   "source": [
    "temp=set()\n",
    "for x in mylist:\n",
    "    if (x<v_min) or (x>v_max):\n",
    "        temp.add(x)\n",
    "for x in temp:\n",
    "    mylist.remove(x)"
   ]
  },
  {
   "cell_type": "code",
   "execution_count": 179,
   "id": "5d368678",
   "metadata": {},
   "outputs": [
    {
     "data": {
      "text/plain": [
       "{0.0, 0.75}"
      ]
     },
     "execution_count": 179,
     "metadata": {},
     "output_type": "execute_result"
    }
   ],
   "source": [
    "myset=set(mylist)\n",
    "myset"
   ]
  },
  {
   "cell_type": "markdown",
   "id": "925369aa",
   "metadata": {
    "jp-MarkdownHeadingCollapsed": true
   },
   "source": [
    "##  P102.1"
   ]
  },
  {
   "cell_type": "code",
   "execution_count": 180,
   "id": "fd3af07f",
   "metadata": {},
   "outputs": [
    {
     "data": {
      "text/html": [
       "<div>\n",
       "<style scoped>\n",
       "    .dataframe tbody tr th:only-of-type {\n",
       "        vertical-align: middle;\n",
       "    }\n",
       "\n",
       "    .dataframe tbody tr th {\n",
       "        vertical-align: top;\n",
       "    }\n",
       "\n",
       "    .dataframe thead th {\n",
       "        text-align: right;\n",
       "    }\n",
       "</style>\n",
       "<table border=\"1\" class=\"dataframe\">\n",
       "  <thead>\n",
       "    <tr style=\"text-align: right;\">\n",
       "      <th></th>\n",
       "      <th>indic</th>\n",
       "      <th>min</th>\n",
       "      <th>max</th>\n",
       "    </tr>\n",
       "  </thead>\n",
       "  <tbody>\n",
       "    <tr>\n",
       "      <th>0</th>\n",
       "      <td>D101.0</td>\n",
       "      <td>0.0</td>\n",
       "      <td>5.000000e+10</td>\n",
       "    </tr>\n",
       "    <tr>\n",
       "      <th>1</th>\n",
       "      <td>D102.0</td>\n",
       "      <td>1.0</td>\n",
       "      <td>4.000000e+00</td>\n",
       "    </tr>\n",
       "    <tr>\n",
       "      <th>2</th>\n",
       "      <td>D151.0</td>\n",
       "      <td>1.0</td>\n",
       "      <td>1.000000e+01</td>\n",
       "    </tr>\n",
       "    <tr>\n",
       "      <th>3</th>\n",
       "      <td>P101.1</td>\n",
       "      <td>25.0</td>\n",
       "      <td>1.000000e+02</td>\n",
       "    </tr>\n",
       "    <tr>\n",
       "      <th>4</th>\n",
       "      <td>P102.1</td>\n",
       "      <td>25.0</td>\n",
       "      <td>1.000000e+02</td>\n",
       "    </tr>\n",
       "  </tbody>\n",
       "</table>\n",
       "</div>"
      ],
      "text/plain": [
       "    indic   min           max\n",
       "0  D101.0   0.0  5.000000e+10\n",
       "1  D102.0   1.0  4.000000e+00\n",
       "2  D151.0   1.0  1.000000e+01\n",
       "3  P101.1  25.0  1.000000e+02\n",
       "4  P102.1  25.0  1.000000e+02"
      ]
     },
     "execution_count": 180,
     "metadata": {},
     "output_type": "execute_result"
    }
   ],
   "source": [
    "import pandas as pd\n",
    "\n",
    "df = pd.read_csv(r'C:\\Users\\malou.berthe\\Documents\\src\\bornes.csv')\n",
    "df.head()"
   ]
  },
  {
   "cell_type": "code",
   "execution_count": 182,
   "id": "cf57f83a",
   "metadata": {},
   "outputs": [],
   "source": [
    "mylist=['0 0 4 0', '100', '0','____ 100']"
   ]
  },
  {
   "cell_type": "code",
   "execution_count": 183,
   "id": "6d0fd2ed",
   "metadata": {},
   "outputs": [],
   "source": [
    "result = [item.split(' ') for item in mylist]\n",
    "final=[]\n",
    "for i in result:\n",
    "    for j in i:\n",
    "        final.append(j)\n",
    "for i in final:\n",
    "    if (re.findall('\\d+',i)==[]):\n",
    "        final.remove(i)\n",
    "final= list(map(point,final))\n",
    "mylist = []\n",
    "for item in final:\n",
    "    mylist.append(float(item))"
   ]
  },
  {
   "cell_type": "code",
   "execution_count": 184,
   "id": "558b4c3d",
   "metadata": {},
   "outputs": [],
   "source": [
    "for i in df.index:\n",
    "    if df['indic'][i]=='P102.1':\n",
    "        v_min=df['min'][i]\n",
    "        v_max=df['max'][i]"
   ]
  },
  {
   "cell_type": "code",
   "execution_count": 187,
   "id": "2352bd03",
   "metadata": {},
   "outputs": [],
   "source": [
    "temp=[]\n",
    "for x in mylist:\n",
    "    if (x<v_min) or (x>v_max):\n",
    "        temp.append(x)\n",
    "for x in temp:\n",
    "    mylist.remove(x)"
   ]
  },
  {
   "cell_type": "code",
   "execution_count": 188,
   "id": "9b39b865",
   "metadata": {},
   "outputs": [
    {
     "data": {
      "text/plain": [
       "{100.0}"
      ]
     },
     "execution_count": 188,
     "metadata": {},
     "output_type": "execute_result"
    }
   ],
   "source": [
    "myset=set(mylist)\n",
    "myset"
   ]
  },
  {
   "cell_type": "markdown",
   "id": "65840800",
   "metadata": {
    "jp-MarkdownHeadingCollapsed": true
   },
   "source": [
    "##  P106.3"
   ]
  },
  {
   "cell_type": "code",
   "execution_count": 197,
   "id": "f40f57e6",
   "metadata": {},
   "outputs": [],
   "source": [
    "mylist=['', '1,5 1.8', '1,8', '10 640', '76,3', '1.8', '0']"
   ]
  },
  {
   "cell_type": "code",
   "execution_count": 198,
   "id": "408238ed",
   "metadata": {},
   "outputs": [],
   "source": [
    "result = [item.split(' ') for item in mylist]\n",
    "final=[]\n",
    "for i in result:\n",
    "    for j in i:\n",
    "        final.append(j)\n",
    "for i in final:\n",
    "    if (re.findall('\\d+',i)==[]):\n",
    "        final.remove(i)\n",
    "final= list(map(point,final))\n",
    "mylist = []\n",
    "for item in final:\n",
    "    mylist.append(float(item))"
   ]
  },
  {
   "cell_type": "code",
   "execution_count": 199,
   "id": "e5534fad",
   "metadata": {},
   "outputs": [],
   "source": [
    "for i in df.index:\n",
    "    if df['indic'][i]=='P106.3':\n",
    "        v_min=df['min'][i]\n",
    "        v_max=df['max'][i]"
   ]
  },
  {
   "cell_type": "code",
   "execution_count": 200,
   "id": "59c9aa34",
   "metadata": {},
   "outputs": [],
   "source": [
    "temp=[]\n",
    "for x in mylist:\n",
    "    if (x<v_min) or (x>v_max):\n",
    "        temp.append(x)\n",
    "for x in temp:\n",
    "    mylist.remove(x)"
   ]
  },
  {
   "cell_type": "code",
   "execution_count": 201,
   "id": "1dc59341",
   "metadata": {},
   "outputs": [
    {
     "data": {
      "text/plain": [
       "{1.5, 1.8, 10.0}"
      ]
     },
     "execution_count": 201,
     "metadata": {},
     "output_type": "execute_result"
    }
   ],
   "source": [
    "myset=set(mylist)\n",
    "myset"
   ]
  },
  {
   "cell_type": "markdown",
   "id": "f9422bcd",
   "metadata": {
    "jp-MarkdownHeadingCollapsed": true
   },
   "source": [
    "## P103.2"
   ]
  },
  {
   "cell_type": "code",
   "execution_count": 208,
   "id": "5b1483d9",
   "metadata": {},
   "outputs": [],
   "source": [
    "mylist=['', '3.2', '100 100', '0', '100', '120 100', '3.1 102']"
   ]
  },
  {
   "cell_type": "code",
   "execution_count": 209,
   "id": "1cdf585b",
   "metadata": {},
   "outputs": [],
   "source": [
    "result = [item.split(' ') for item in mylist]\n",
    "final=[]\n",
    "for i in result:\n",
    "    for j in i:\n",
    "        final.append(j)\n",
    "for i in final:\n",
    "    if (re.findall('\\d+',i)==[]):\n",
    "        final.remove(i)\n",
    "final= list(map(point,final))\n",
    "mylist = []\n",
    "for item in final:\n",
    "    mylist.append(float(item))"
   ]
  },
  {
   "cell_type": "code",
   "execution_count": 210,
   "id": "4da1b9fc",
   "metadata": {},
   "outputs": [],
   "source": [
    "for i in df.index:\n",
    "    if df['indic'][i]=='P103.2':\n",
    "        v_min=df['min'][i]\n",
    "        v_max=df['max'][i]"
   ]
  },
  {
   "cell_type": "code",
   "execution_count": 211,
   "id": "6df32e7e",
   "metadata": {},
   "outputs": [],
   "source": [
    "temp=[]\n",
    "for x in mylist:\n",
    "    if (x<v_min) or (x>v_max):\n",
    "        temp.append(x)\n",
    "for x in temp:\n",
    "    mylist.remove(x)"
   ]
  },
  {
   "cell_type": "code",
   "execution_count": 212,
   "id": "93e9445a",
   "metadata": {},
   "outputs": [
    {
     "data": {
      "text/plain": [
       "{0.0, 3.1, 3.2, 100.0, 102.0, 120.0}"
      ]
     },
     "execution_count": 212,
     "metadata": {},
     "output_type": "execute_result"
    }
   ],
   "source": [
    "myset=set(mylist)\n",
    "myset"
   ]
  },
  {
   "cell_type": "markdown",
   "id": "e0bf69b9",
   "metadata": {
    "jp-MarkdownHeadingCollapsed": true
   },
   "source": [
    "## P109.0"
   ]
  },
  {
   "cell_type": "code",
   "execution_count": 218,
   "id": "c61d7bfa",
   "metadata": {},
   "outputs": [],
   "source": [
    "mylist=['0 0', '5.1', '0']"
   ]
  },
  {
   "cell_type": "code",
   "execution_count": 219,
   "id": "24ad93be",
   "metadata": {},
   "outputs": [],
   "source": [
    "result = [item.split(' ') for item in mylist]\n",
    "final=[]\n",
    "for i in result:\n",
    "    for j in i:\n",
    "        final.append(j)\n",
    "for i in final:\n",
    "    if (re.findall('\\d+',i)==[]):\n",
    "        final.remove(i)\n",
    "final= list(map(point,final))\n",
    "mylist = []\n",
    "for item in final:\n",
    "    mylist.append(float(item))"
   ]
  },
  {
   "cell_type": "code",
   "execution_count": 220,
   "id": "c8369773",
   "metadata": {},
   "outputs": [],
   "source": [
    "for i in df.index:\n",
    "    if df['indic'][i]=='P109.0':\n",
    "        v_min=df['min'][i]\n",
    "        v_max=df['max'][i]"
   ]
  },
  {
   "cell_type": "code",
   "execution_count": 221,
   "id": "7aa517ad",
   "metadata": {},
   "outputs": [],
   "source": [
    "temp=[]\n",
    "for x in mylist:\n",
    "    if (x<v_min) or (x>v_max):\n",
    "        temp.append(x)\n",
    "for x in temp:\n",
    "    mylist.remove(x)"
   ]
  },
  {
   "cell_type": "code",
   "execution_count": 222,
   "id": "afa2e5ed",
   "metadata": {},
   "outputs": [
    {
     "data": {
      "text/plain": [
       "{0.0}"
      ]
     },
     "execution_count": 222,
     "metadata": {},
     "output_type": "execute_result"
    }
   ],
   "source": [
    "myset=set(mylist)\n",
    "myset"
   ]
  },
  {
   "cell_type": "markdown",
   "id": "7d29f213",
   "metadata": {
    "jp-MarkdownHeadingCollapsed": true
   },
   "source": [
    "## P153.2"
   ]
  },
  {
   "cell_type": "code",
   "execution_count": 230,
   "id": "9cf15aac",
   "metadata": {},
   "outputs": [],
   "source": [
    "mylist=['1']\n",
    "result = [item.split(' ') for item in mylist]\n",
    "final=[]\n",
    "for i in result:\n",
    "    for j in i:\n",
    "        final.append(j)\n",
    "for i in final:\n",
    "    if (re.findall('\\d+',i)==[]):\n",
    "        final.remove(i)\n",
    "final= list(map(point,final))\n",
    "mylist = []\n",
    "for item in final:\n",
    "    mylist.append(float(item))"
   ]
  },
  {
   "cell_type": "code",
   "execution_count": 231,
   "id": "b17772ca",
   "metadata": {},
   "outputs": [],
   "source": [
    "for i in df.index:\n",
    "    if df['indic'][i]=='P153.2':\n",
    "        v_min=df['min'][i]\n",
    "        v_max=df['max'][i]"
   ]
  },
  {
   "cell_type": "code",
   "execution_count": 232,
   "id": "41e1b98f",
   "metadata": {},
   "outputs": [],
   "source": [
    "temp=[]\n",
    "for x in mylist:\n",
    "    if (x<v_min) or (x>v_max):\n",
    "        temp.append(x)\n",
    "for x in temp:\n",
    "    mylist.remove(x)"
   ]
  },
  {
   "cell_type": "code",
   "execution_count": 233,
   "id": "6f12530f",
   "metadata": {},
   "outputs": [
    {
     "data": {
      "text/plain": [
       "{1.0}"
      ]
     },
     "execution_count": 233,
     "metadata": {},
     "output_type": "execute_result"
    }
   ],
   "source": [
    "myset=set(mylist)\n",
    "myset"
   ]
  },
  {
   "cell_type": "markdown",
   "id": "ddc7f40f",
   "metadata": {},
   "source": [
    " ## P154.0"
   ]
  },
  {
   "cell_type": "code",
   "execution_count": 235,
   "id": "e381af29",
   "metadata": {},
   "outputs": [],
   "source": [
    "mylist=['3.8']"
   ]
  },
  {
   "cell_type": "code",
   "execution_count": 236,
   "id": "9f910597",
   "metadata": {},
   "outputs": [],
   "source": [
    "result = [item.split(' ') for item in mylist]\n",
    "final=[]\n",
    "for i in result:\n",
    "    for j in i:\n",
    "        final.append(j)\n",
    "for i in final:\n",
    "    if (re.findall('\\d+',i)==[]):\n",
    "        final.remove(i)\n",
    "final= list(map(point,final))\n",
    "mylist = []\n",
    "for item in final:\n",
    "    mylist.append(float(item))"
   ]
  },
  {
   "cell_type": "code",
   "execution_count": 237,
   "id": "05f43777",
   "metadata": {},
   "outputs": [],
   "source": [
    "for i in df.index:\n",
    "    if df['indic'][i]=='P154.0':\n",
    "        v_min=df['min'][i]\n",
    "        v_max=df['max'][i]"
   ]
  },
  {
   "cell_type": "code",
   "execution_count": 238,
   "id": "283af8c7",
   "metadata": {},
   "outputs": [],
   "source": [
    "temp=[]\n",
    "for x in mylist:\n",
    "    if (x<v_min) or (x>v_max):\n",
    "        temp.append(x)\n",
    "for x in temp:\n",
    "    mylist.remove(x)"
   ]
  },
  {
   "cell_type": "code",
   "execution_count": 239,
   "id": "2aabffc3",
   "metadata": {},
   "outputs": [
    {
     "data": {
      "text/plain": [
       "{3.8}"
      ]
     },
     "execution_count": 239,
     "metadata": {},
     "output_type": "execute_result"
    }
   ],
   "source": [
    "myset=set(mylist)\n",
    "myset"
   ]
  },
  {
   "cell_type": "markdown",
   "id": "33ecc39a",
   "metadata": {
    "jp-MarkdownHeadingCollapsed": true
   },
   "source": [
    "## P155.1"
   ]
  },
  {
   "cell_type": "code",
   "execution_count": 246,
   "id": "6977ce87",
   "metadata": {},
   "outputs": [],
   "source": [
    "mylist=['3.9']"
   ]
  },
  {
   "cell_type": "code",
   "execution_count": 247,
   "id": "ef6806e1",
   "metadata": {},
   "outputs": [],
   "source": [
    "result = [item.split(' ') for item in mylist]\n",
    "final=[]\n",
    "for i in result:\n",
    "    for j in i:\n",
    "        final.append(j)\n",
    "for i in final:\n",
    "    if (re.findall('\\d+',i)==[]):\n",
    "        final.remove(i)\n",
    "final= list(map(point,final))\n",
    "mylist = []\n",
    "for item in final:\n",
    "    mylist.append(float(item))"
   ]
  },
  {
   "cell_type": "code",
   "execution_count": 248,
   "id": "ed54a284",
   "metadata": {},
   "outputs": [],
   "source": [
    "for i in df.index:\n",
    "    if df['indic'][i]=='P155.0':\n",
    "        v_min=df['min'][i]\n",
    "        v_max=df['max'][i]"
   ]
  },
  {
   "cell_type": "code",
   "execution_count": 249,
   "id": "d747c388",
   "metadata": {},
   "outputs": [],
   "source": [
    "temp=[]\n",
    "for x in mylist:\n",
    "    if (x<v_min) or (x>v_max):\n",
    "        temp.append(x)\n",
    "for x in temp:\n",
    "    mylist.remove(x)"
   ]
  },
  {
   "cell_type": "code",
   "execution_count": 250,
   "id": "c6b9266e",
   "metadata": {},
   "outputs": [
    {
     "data": {
      "text/plain": [
       "{3.9}"
      ]
     },
     "execution_count": 250,
     "metadata": {},
     "output_type": "execute_result"
    }
   ],
   "source": [
    "myset=set(mylist)\n",
    "myset"
   ]
  },
  {
   "cell_type": "markdown",
   "id": "636235d1",
   "metadata": {
    "jp-MarkdownHeadingCollapsed": true
   },
   "source": [
    "## P101.1"
   ]
  },
  {
   "cell_type": "code",
   "execution_count": 257,
   "id": "854ee839",
   "metadata": {},
   "outputs": [],
   "source": [
    "mylist=['100', '0', '____ 100']"
   ]
  },
  {
   "cell_type": "code",
   "execution_count": 258,
   "id": "d363b02d",
   "metadata": {},
   "outputs": [],
   "source": [
    "result = [item.split(' ') for item in mylist]\n",
    "final=[]\n",
    "for i in result:\n",
    "    for j in i:\n",
    "        final.append(j)\n",
    "for i in final:\n",
    "    if (re.findall('\\d+',i)==[]):\n",
    "        final.remove(i)\n",
    "final= list(map(point,final))\n",
    "mylist = []\n",
    "for item in final:\n",
    "    mylist.append(float(item))"
   ]
  },
  {
   "cell_type": "code",
   "execution_count": 259,
   "id": "a97471e3",
   "metadata": {},
   "outputs": [],
   "source": [
    "for i in df.index:\n",
    "    if df['indic'][i]=='P101.1':\n",
    "        v_min=df['min'][i]\n",
    "        v_max=df['max'][i]"
   ]
  },
  {
   "cell_type": "code",
   "execution_count": 260,
   "id": "8b60959e",
   "metadata": {},
   "outputs": [],
   "source": [
    "temp=[]\n",
    "for x in mylist:\n",
    "    if (x<v_min) or (x>v_max):\n",
    "        temp.append(x)\n",
    "for x in temp:\n",
    "    mylist.remove(x)"
   ]
  },
  {
   "cell_type": "code",
   "execution_count": 261,
   "id": "f20a20b5",
   "metadata": {},
   "outputs": [
    {
     "data": {
      "text/plain": [
       "{100.0}"
      ]
     },
     "execution_count": 261,
     "metadata": {},
     "output_type": "execute_result"
    }
   ],
   "source": [
    "myset=set(mylist)\n",
    "myset"
   ]
  },
  {
   "cell_type": "markdown",
   "id": "2fb1767f",
   "metadata": {
    "jp-MarkdownHeadingCollapsed": true
   },
   "source": [
    "## P102.1"
   ]
  },
  {
   "cell_type": "code",
   "execution_count": 264,
   "id": "6263c5df",
   "metadata": {},
   "outputs": [],
   "source": [
    "mylist=['0 0 4 0', '100', '0','____ 100']"
   ]
  },
  {
   "cell_type": "code",
   "execution_count": 265,
   "id": "f7b6dc17",
   "metadata": {},
   "outputs": [],
   "source": [
    "result = [item.split(' ') for item in mylist]\n",
    "final=[]\n",
    "for i in result:\n",
    "    for j in i:\n",
    "        final.append(j)\n",
    "for i in final:\n",
    "    if (re.findall('\\d+',i)==[]):\n",
    "        final.remove(i)\n",
    "final= list(map(point,final))\n",
    "mylist = []\n",
    "for item in final:\n",
    "    mylist.append(float(item))"
   ]
  },
  {
   "cell_type": "code",
   "execution_count": 269,
   "id": "54f51298",
   "metadata": {},
   "outputs": [],
   "source": [
    "for i in df.index:\n",
    "    if df['indic'][i]=='P102.1':\n",
    "        v_min=df['min'][i]\n",
    "        v_max=df['max'][i]"
   ]
  },
  {
   "cell_type": "code",
   "execution_count": 270,
   "id": "5ccf3fb0",
   "metadata": {},
   "outputs": [],
   "source": [
    "temp=[]\n",
    "for x in mylist:\n",
    "    if (x<v_min) or (x>v_max):\n",
    "        temp.append(x)\n",
    "for x in temp:\n",
    "    mylist.remove(x)"
   ]
  },
  {
   "cell_type": "code",
   "execution_count": 271,
   "id": "79645c21",
   "metadata": {},
   "outputs": [
    {
     "data": {
      "text/plain": [
       "{100.0}"
      ]
     },
     "execution_count": 271,
     "metadata": {},
     "output_type": "execute_result"
    }
   ],
   "source": [
    "myset=set(mylist)\n",
    "myset"
   ]
  },
  {
   "cell_type": "markdown",
   "id": "02170381",
   "metadata": {
    "jp-MarkdownHeadingCollapsed": true
   },
   "source": [
    "## P104.3"
   ]
  },
  {
   "cell_type": "code",
   "execution_count": 272,
   "id": "8b00edae",
   "metadata": {},
   "outputs": [],
   "source": [
    "mylist=['80,4 76,3']"
   ]
  },
  {
   "cell_type": "code",
   "execution_count": 273,
   "id": "70151724",
   "metadata": {},
   "outputs": [],
   "source": [
    "result = [item.split(' ') for item in mylist]\n",
    "final=[]\n",
    "for i in result:\n",
    "    for j in i:\n",
    "        final.append(j)\n",
    "for i in final:\n",
    "    if (re.findall('\\d+',i)==[]):\n",
    "        final.remove(i)\n",
    "final= list(map(point,final))\n",
    "mylist = []\n",
    "for item in final:\n",
    "    mylist.append(float(item))"
   ]
  },
  {
   "cell_type": "code",
   "execution_count": 274,
   "id": "4a628fb0",
   "metadata": {},
   "outputs": [],
   "source": [
    "for i in df.index:\n",
    "    if df['indic'][i]=='P104.3':\n",
    "        v_min=df['min'][i]\n",
    "        v_max=df['max'][i]"
   ]
  },
  {
   "cell_type": "code",
   "execution_count": 275,
   "id": "1ac1b5b4",
   "metadata": {},
   "outputs": [],
   "source": [
    "temp=[]\n",
    "for x in mylist:\n",
    "    if (x<v_min) or (x>v_max):\n",
    "        temp.append(x)\n",
    "for x in temp:\n",
    "    mylist.remove(x)"
   ]
  },
  {
   "cell_type": "code",
   "execution_count": 276,
   "id": "f1b87811",
   "metadata": {},
   "outputs": [
    {
     "data": {
      "text/plain": [
       "{76.3, 80.4}"
      ]
     },
     "execution_count": 276,
     "metadata": {},
     "output_type": "execute_result"
    }
   ],
   "source": [
    "myset=set(mylist)\n",
    "myset"
   ]
  },
  {
   "cell_type": "markdown",
   "id": "19c9af04-8293-4b71-9c7e-3db0912d63c7",
   "metadata": {},
   "source": [
    "# rep les avirons"
   ]
  },
  {
   "cell_type": "code",
   "execution_count": 1,
   "id": "0a4900f5-a403-4ccf-85a3-d0568a56d047",
   "metadata": {},
   "outputs": [
    {
     "name": "stdout",
     "output_type": "stream",
     "text": [
      "Collecting pandas\n",
      "  Using cached pandas-2.0.1-cp310-cp310-manylinux_2_17_x86_64.manylinux2014_x86_64.whl (12.3 MB)\n",
      "Requirement already satisfied: python-dateutil>=2.8.2 in /opt/mamba/lib/python3.10/site-packages (from pandas) (2.8.2)\n",
      "Requirement already satisfied: pytz>=2020.1 in /opt/mamba/lib/python3.10/site-packages (from pandas) (2023.3)\n",
      "Collecting tzdata>=2022.1 (from pandas)\n",
      "  Downloading tzdata-2023.3-py2.py3-none-any.whl (341 kB)\n",
      "\u001b[2K     \u001b[90m━━━━━━━━━━━━━━━━━━━━━━━━━━━━━━━━━━━━━━━\u001b[0m \u001b[32m341.8/341.8 kB\u001b[0m \u001b[31m8.6 MB/s\u001b[0m eta \u001b[36m0:00:00\u001b[0m00:01\u001b[0m\n",
      "\u001b[?25hRequirement already satisfied: numpy>=1.21.0 in /opt/mamba/lib/python3.10/site-packages (from pandas) (1.23.5)\n",
      "Requirement already satisfied: six>=1.5 in /opt/mamba/lib/python3.10/site-packages (from python-dateutil>=2.8.2->pandas) (1.16.0)\n",
      "Installing collected packages: tzdata, pandas\n",
      "Successfully installed pandas-2.0.1 tzdata-2023.3\n"
     ]
    }
   ],
   "source": [
    "!pip install pandas\n",
    "import pandas as pd"
   ]
  },
  {
   "cell_type": "code",
   "execution_count": 17,
   "id": "d3ccb7f8-a111-4086-9850-425940c45f11",
   "metadata": {},
   "outputs": [],
   "source": [
    "import os\n",
    "pd.set_option('mode.chained_assignment', None)\n",
    "import s3fs"
   ]
  },
  {
   "cell_type": "code",
   "execution_count": 18,
   "id": "0902ffc0-6e55-437f-a99f-e79ebae5484c",
   "metadata": {},
   "outputs": [],
   "source": [
    "S3_ENDPOINT_URL = \"https://\" + os.environ[\"AWS_S3_ENDPOINT\"]\n",
    "fs = s3fs.S3FileSystem(client_kwargs={'endpoint_url': S3_ENDPOINT_URL})\n",
    "BUCKET = \"mberthe/narval\"\n",
    "FILE_KEY_S3 = \"camemBERT/pre_avirons_T5_xl.csv\"\n",
    "FILE_PATH_S3 = BUCKET + \"/\" + FILE_KEY_S3\n",
    "\n",
    "with fs.open(FILE_PATH_S3, mode=\"rb\",index=False) as file_in:\n",
    "    pred1 = pd.read_csv(file_in)"
   ]
  },
  {
   "cell_type": "code",
   "execution_count": 19,
   "id": "722971ea-b6d2-4d4d-9e64-ba10fd123ffd",
   "metadata": {},
   "outputs": [
    {
     "data": {
      "text/html": [
       "<div>\n",
       "<style scoped>\n",
       "    .dataframe tbody tr th:only-of-type {\n",
       "        vertical-align: middle;\n",
       "    }\n",
       "\n",
       "    .dataframe tbody tr th {\n",
       "        vertical-align: top;\n",
       "    }\n",
       "\n",
       "    .dataframe thead th {\n",
       "        text-align: right;\n",
       "    }\n",
       "</style>\n",
       "<table border=\"1\" class=\"dataframe\">\n",
       "  <thead>\n",
       "    <tr style=\"text-align: right;\">\n",
       "      <th></th>\n",
       "      <th>indic</th>\n",
       "      <th>valeur</th>\n",
       "    </tr>\n",
       "  </thead>\n",
       "  <tbody>\n",
       "    <tr>\n",
       "      <th>0</th>\n",
       "      <td>D102.0</td>\n",
       "      <td>['', '86 134 1 2020 1 2021', '0', '0', '60.92 ...</td>\n",
       "    </tr>\n",
       "    <tr>\n",
       "      <th>1</th>\n",
       "      <td>P103.2</td>\n",
       "      <td>['10', '', '', '2020 69 30 2020', '0.02', '0',...</td>\n",
       "    </tr>\n",
       "    <tr>\n",
       "      <th>2</th>\n",
       "      <td>P107.2</td>\n",
       "      <td>['73.18', '', '66.0 36.0', '2', '', '71', '3 3...</td>\n",
       "    </tr>\n",
       "    <tr>\n",
       "      <th>3</th>\n",
       "      <td>P109.0</td>\n",
       "      <td>['', '0', '0', '0']</td>\n",
       "    </tr>\n",
       "    <tr>\n",
       "      <th>4</th>\n",
       "      <td>P153.2</td>\n",
       "      <td>['0']</td>\n",
       "    </tr>\n",
       "    <tr>\n",
       "      <th>5</th>\n",
       "      <td>P154.0</td>\n",
       "      <td>['', '0', '0', '0']</td>\n",
       "    </tr>\n",
       "    <tr>\n",
       "      <th>6</th>\n",
       "      <td>P155.1</td>\n",
       "      <td>['53 076.82 0.96 5 235', '0.96', '53 076.82 0....</td>\n",
       "    </tr>\n",
       "    <tr>\n",
       "      <th>7</th>\n",
       "      <td>P101.1</td>\n",
       "      <td>['97.3', '94.7 95.5', '', '22 21 97.3 22 22 10...</td>\n",
       "    </tr>\n",
       "    <tr>\n",
       "      <th>8</th>\n",
       "      <td>P102.1</td>\n",
       "      <td>['98.7 94.8', '96.4 84', '', '', '52 52 100 22...</td>\n",
       "    </tr>\n",
       "    <tr>\n",
       "      <th>9</th>\n",
       "      <td>P104.3</td>\n",
       "      <td>['73.18', '73.18', '67.08 70.9', '13.8', '92',...</td>\n",
       "    </tr>\n",
       "    <tr>\n",
       "      <th>10</th>\n",
       "      <td>P105.3</td>\n",
       "      <td>['', '', '98.1 100 890 683', '', '801 865 798 ...</td>\n",
       "    </tr>\n",
       "    <tr>\n",
       "      <th>11</th>\n",
       "      <td>P106.3</td>\n",
       "      <td>['', '', '', '9.28', '0.02', '', '', '9.28', '...</td>\n",
       "    </tr>\n",
       "    <tr>\n",
       "      <th>12</th>\n",
       "      <td>P108.3</td>\n",
       "      <td>['', '0.1', '0', '0', '0', '', '73.18', '0', '0']</td>\n",
       "    </tr>\n",
       "    <tr>\n",
       "      <th>13</th>\n",
       "      <td>P151.1</td>\n",
       "      <td>['0 95.52', '', '0 95.52', '0', '0 95.52']</td>\n",
       "    </tr>\n",
       "  </tbody>\n",
       "</table>\n",
       "</div>"
      ],
      "text/plain": [
       "     indic                                             valeur\n",
       "0   D102.0  ['', '86 134 1 2020 1 2021', '0', '0', '60.92 ...\n",
       "1   P103.2  ['10', '', '', '2020 69 30 2020', '0.02', '0',...\n",
       "2   P107.2  ['73.18', '', '66.0 36.0', '2', '', '71', '3 3...\n",
       "3   P109.0                                ['', '0', '0', '0']\n",
       "4   P153.2                                              ['0']\n",
       "5   P154.0                                ['', '0', '0', '0']\n",
       "6   P155.1  ['53 076.82 0.96 5 235', '0.96', '53 076.82 0....\n",
       "7   P101.1  ['97.3', '94.7 95.5', '', '22 21 97.3 22 22 10...\n",
       "8   P102.1  ['98.7 94.8', '96.4 84', '', '', '52 52 100 22...\n",
       "9   P104.3  ['73.18', '73.18', '67.08 70.9', '13.8', '92',...\n",
       "10  P105.3  ['', '', '98.1 100 890 683', '', '801 865 798 ...\n",
       "11  P106.3  ['', '', '', '9.28', '0.02', '', '', '9.28', '...\n",
       "12  P108.3  ['', '0.1', '0', '0', '0', '', '73.18', '0', '0']\n",
       "13  P151.1         ['0 95.52', '', '0 95.52', '0', '0 95.52']"
      ]
     },
     "execution_count": 19,
     "metadata": {},
     "output_type": "execute_result"
    }
   ],
   "source": [
    "pred1.drop(columns={\"Unnamed: 0\"})"
   ]
  },
  {
   "cell_type": "code",
   "execution_count": 20,
   "id": "20712295-cdab-44d4-b388-b288ee42377a",
   "metadata": {},
   "outputs": [
    {
     "data": {
      "text/plain": [
       "str"
      ]
     },
     "execution_count": 20,
     "metadata": {},
     "output_type": "execute_result"
    }
   ],
   "source": [
    "type(pred1[\"valeur\"][0])"
   ]
  },
  {
   "cell_type": "code",
   "execution_count": 122,
   "id": "ea183c92-0341-4052-8740-b1d86545751c",
   "metadata": {},
   "outputs": [],
   "source": [
    "import ast"
   ]
  },
  {
   "cell_type": "code",
   "execution_count": 123,
   "id": "3deb9c21-ee2b-4b1f-b527-1b43008c97fe",
   "metadata": {},
   "outputs": [],
   "source": [
    "#Nous avons un string donc, on le met sous forme de liste\n",
    "for i in pred1.index:\n",
    "   pred1['valeur'][i] =res = ast.literal_eval(pred1['valeur'][i])"
   ]
  },
  {
   "cell_type": "code",
   "execution_count": 124,
   "id": "39a20280-c361-43ac-b227-96187fded549",
   "metadata": {},
   "outputs": [
    {
     "data": {
      "text/plain": [
       "list"
      ]
     },
     "execution_count": 124,
     "metadata": {},
     "output_type": "execute_result"
    }
   ],
   "source": [
    "type(pred1[\"valeur\"][0])"
   ]
  },
  {
   "cell_type": "code",
   "execution_count": 125,
   "id": "8d5451a2-1df6-42a9-87c1-841d5ceb7ac4",
   "metadata": {},
   "outputs": [
    {
     "data": {
      "text/html": [
       "<div>\n",
       "<style scoped>\n",
       "    .dataframe tbody tr th:only-of-type {\n",
       "        vertical-align: middle;\n",
       "    }\n",
       "\n",
       "    .dataframe tbody tr th {\n",
       "        vertical-align: top;\n",
       "    }\n",
       "\n",
       "    .dataframe thead th {\n",
       "        text-align: right;\n",
       "    }\n",
       "</style>\n",
       "<table border=\"1\" class=\"dataframe\">\n",
       "  <thead>\n",
       "    <tr style=\"text-align: right;\">\n",
       "      <th></th>\n",
       "      <th>Unnamed: 0</th>\n",
       "      <th>indic</th>\n",
       "      <th>valeur</th>\n",
       "    </tr>\n",
       "  </thead>\n",
       "  <tbody>\n",
       "    <tr>\n",
       "      <th>0</th>\n",
       "      <td>0</td>\n",
       "      <td>D102.0</td>\n",
       "      <td>[, 86 134 1 2020 1 2021, 0, 0, 60.92 61.90 1.6...</td>\n",
       "    </tr>\n",
       "    <tr>\n",
       "      <th>1</th>\n",
       "      <td>1</td>\n",
       "      <td>P103.2</td>\n",
       "      <td>[10, , , 2020 69 30 2020, 0.02, 0, 0, 0.02, 25...</td>\n",
       "    </tr>\n",
       "    <tr>\n",
       "      <th>2</th>\n",
       "      <td>2</td>\n",
       "      <td>P107.2</td>\n",
       "      <td>[73.18, , 66.0 36.0, 2, , 71, 3 3, , 0, 0.02, ...</td>\n",
       "    </tr>\n",
       "    <tr>\n",
       "      <th>3</th>\n",
       "      <td>3</td>\n",
       "      <td>P109.0</td>\n",
       "      <td>[, 0, 0, 0]</td>\n",
       "    </tr>\n",
       "    <tr>\n",
       "      <th>4</th>\n",
       "      <td>4</td>\n",
       "      <td>P153.2</td>\n",
       "      <td>[0]</td>\n",
       "    </tr>\n",
       "    <tr>\n",
       "      <th>5</th>\n",
       "      <td>5</td>\n",
       "      <td>P154.0</td>\n",
       "      <td>[, 0, 0, 0]</td>\n",
       "    </tr>\n",
       "    <tr>\n",
       "      <th>6</th>\n",
       "      <td>6</td>\n",
       "      <td>P155.1</td>\n",
       "      <td>[53 076.82 0.96 5 235, 0.96, 53 076.82 0.96 5 ...</td>\n",
       "    </tr>\n",
       "    <tr>\n",
       "      <th>7</th>\n",
       "      <td>7</td>\n",
       "      <td>P101.1</td>\n",
       "      <td>[97.3, 94.7 95.5, , 22 21 97.3 22 22 100, , 98...</td>\n",
       "    </tr>\n",
       "    <tr>\n",
       "      <th>8</th>\n",
       "      <td>8</td>\n",
       "      <td>P102.1</td>\n",
       "      <td>[98.7 94.8, 96.4 84, , , 52 52 100 22 22 100, ...</td>\n",
       "    </tr>\n",
       "    <tr>\n",
       "      <th>9</th>\n",
       "      <td>9</td>\n",
       "      <td>P104.3</td>\n",
       "      <td>[73.18, 73.18, 67.08 70.9, 13.8, 92, , , 98.1,...</td>\n",
       "    </tr>\n",
       "    <tr>\n",
       "      <th>10</th>\n",
       "      <td>10</td>\n",
       "      <td>P105.3</td>\n",
       "      <td>[, , 98.1 100 890 683, , 801 865 798 571 788 1...</td>\n",
       "    </tr>\n",
       "    <tr>\n",
       "      <th>11</th>\n",
       "      <td>11</td>\n",
       "      <td>P106.3</td>\n",
       "      <td>[, , , 9.28, 0.02, , , 9.28, 10.08 9.28, , 10....</td>\n",
       "    </tr>\n",
       "    <tr>\n",
       "      <th>12</th>\n",
       "      <td>12</td>\n",
       "      <td>P108.3</td>\n",
       "      <td>[, 0.1, 0, 0, 0, , 73.18, 0, 0]</td>\n",
       "    </tr>\n",
       "    <tr>\n",
       "      <th>13</th>\n",
       "      <td>13</td>\n",
       "      <td>P151.1</td>\n",
       "      <td>[0 95.52, , 0 95.52, 0, 0 95.52]</td>\n",
       "    </tr>\n",
       "  </tbody>\n",
       "</table>\n",
       "</div>"
      ],
      "text/plain": [
       "    Unnamed: 0   indic                                             valeur\n",
       "0            0  D102.0  [, 86 134 1 2020 1 2021, 0, 0, 60.92 61.90 1.6...\n",
       "1            1  P103.2  [10, , , 2020 69 30 2020, 0.02, 0, 0, 0.02, 25...\n",
       "2            2  P107.2  [73.18, , 66.0 36.0, 2, , 71, 3 3, , 0, 0.02, ...\n",
       "3            3  P109.0                                        [, 0, 0, 0]\n",
       "4            4  P153.2                                                [0]\n",
       "5            5  P154.0                                        [, 0, 0, 0]\n",
       "6            6  P155.1  [53 076.82 0.96 5 235, 0.96, 53 076.82 0.96 5 ...\n",
       "7            7  P101.1  [97.3, 94.7 95.5, , 22 21 97.3 22 22 100, , 98...\n",
       "8            8  P102.1  [98.7 94.8, 96.4 84, , , 52 52 100 22 22 100, ...\n",
       "9            9  P104.3  [73.18, 73.18, 67.08 70.9, 13.8, 92, , , 98.1,...\n",
       "10          10  P105.3  [, , 98.1 100 890 683, , 801 865 798 571 788 1...\n",
       "11          11  P106.3  [, , , 9.28, 0.02, , , 9.28, 10.08 9.28, , 10....\n",
       "12          12  P108.3                    [, 0.1, 0, 0, 0, , 73.18, 0, 0]\n",
       "13          13  P151.1                   [0 95.52, , 0 95.52, 0, 0 95.52]"
      ]
     },
     "execution_count": 125,
     "metadata": {},
     "output_type": "execute_result"
    }
   ],
   "source": [
    "pred1"
   ]
  },
  {
   "cell_type": "code",
   "execution_count": 126,
   "id": "31bcdd8a-4442-41a2-bd7b-28dfab57aeac",
   "metadata": {},
   "outputs": [
    {
     "data": {
      "text/html": [
       "<div>\n",
       "<style scoped>\n",
       "    .dataframe tbody tr th:only-of-type {\n",
       "        vertical-align: middle;\n",
       "    }\n",
       "\n",
       "    .dataframe tbody tr th {\n",
       "        vertical-align: top;\n",
       "    }\n",
       "\n",
       "    .dataframe thead th {\n",
       "        text-align: right;\n",
       "    }\n",
       "</style>\n",
       "<table border=\"1\" class=\"dataframe\">\n",
       "  <thead>\n",
       "    <tr style=\"text-align: right;\">\n",
       "      <th></th>\n",
       "      <th>Unnamed: 0</th>\n",
       "      <th>indic</th>\n",
       "      <th>valeur</th>\n",
       "    </tr>\n",
       "  </thead>\n",
       "  <tbody>\n",
       "    <tr>\n",
       "      <th>0</th>\n",
       "      <td>0</td>\n",
       "      <td>D102.0</td>\n",
       "      <td>[[], [86, 134, 1, 2020, 1, 2021], [0], [0], [6...</td>\n",
       "    </tr>\n",
       "    <tr>\n",
       "      <th>1</th>\n",
       "      <td>1</td>\n",
       "      <td>P103.2</td>\n",
       "      <td>[[10], [], [], [2020, 69, 30, 2020], [0.02], [...</td>\n",
       "    </tr>\n",
       "    <tr>\n",
       "      <th>2</th>\n",
       "      <td>2</td>\n",
       "      <td>P107.2</td>\n",
       "      <td>[[73.18], [], [66.0, 36.0], [2], [], [71], [3,...</td>\n",
       "    </tr>\n",
       "    <tr>\n",
       "      <th>3</th>\n",
       "      <td>3</td>\n",
       "      <td>P109.0</td>\n",
       "      <td>[[], [0], [0], [0]]</td>\n",
       "    </tr>\n",
       "    <tr>\n",
       "      <th>4</th>\n",
       "      <td>4</td>\n",
       "      <td>P153.2</td>\n",
       "      <td>[[0]]</td>\n",
       "    </tr>\n",
       "    <tr>\n",
       "      <th>5</th>\n",
       "      <td>5</td>\n",
       "      <td>P154.0</td>\n",
       "      <td>[[], [0], [0], [0]]</td>\n",
       "    </tr>\n",
       "    <tr>\n",
       "      <th>6</th>\n",
       "      <td>6</td>\n",
       "      <td>P155.1</td>\n",
       "      <td>[[53, 076.82, 0.96, 5, 235], [0.96], [53, 076....</td>\n",
       "    </tr>\n",
       "    <tr>\n",
       "      <th>7</th>\n",
       "      <td>7</td>\n",
       "      <td>P101.1</td>\n",
       "      <td>[[97.3], [94.7, 95.5], [], [22, 21, 97.3, 22, ...</td>\n",
       "    </tr>\n",
       "    <tr>\n",
       "      <th>8</th>\n",
       "      <td>8</td>\n",
       "      <td>P102.1</td>\n",
       "      <td>[[98.7, 94.8], [96.4, 84], [], [], [52, 52, 10...</td>\n",
       "    </tr>\n",
       "    <tr>\n",
       "      <th>9</th>\n",
       "      <td>9</td>\n",
       "      <td>P104.3</td>\n",
       "      <td>[[73.18], [73.18], [67.08, 70.9], [13.8], [92]...</td>\n",
       "    </tr>\n",
       "    <tr>\n",
       "      <th>10</th>\n",
       "      <td>10</td>\n",
       "      <td>P105.3</td>\n",
       "      <td>[[], [], [98.1, 100, 890, 683], [], [801, 865,...</td>\n",
       "    </tr>\n",
       "    <tr>\n",
       "      <th>11</th>\n",
       "      <td>11</td>\n",
       "      <td>P106.3</td>\n",
       "      <td>[[], [], [], [9.28], [0.02], [], [], [9.28], [...</td>\n",
       "    </tr>\n",
       "    <tr>\n",
       "      <th>12</th>\n",
       "      <td>12</td>\n",
       "      <td>P108.3</td>\n",
       "      <td>[[], [0.1], [0], [0], [0], [], [73.18], [0], [0]]</td>\n",
       "    </tr>\n",
       "    <tr>\n",
       "      <th>13</th>\n",
       "      <td>13</td>\n",
       "      <td>P151.1</td>\n",
       "      <td>[[0, 95.52], [], [0, 95.52], [0], [0, 95.52]]</td>\n",
       "    </tr>\n",
       "  </tbody>\n",
       "</table>\n",
       "</div>"
      ],
      "text/plain": [
       "    Unnamed: 0   indic                                             valeur\n",
       "0            0  D102.0  [[], [86, 134, 1, 2020, 1, 2021], [0], [0], [6...\n",
       "1            1  P103.2  [[10], [], [], [2020, 69, 30, 2020], [0.02], [...\n",
       "2            2  P107.2  [[73.18], [], [66.0, 36.0], [2], [], [71], [3,...\n",
       "3            3  P109.0                                [[], [0], [0], [0]]\n",
       "4            4  P153.2                                              [[0]]\n",
       "5            5  P154.0                                [[], [0], [0], [0]]\n",
       "6            6  P155.1  [[53, 076.82, 0.96, 5, 235], [0.96], [53, 076....\n",
       "7            7  P101.1  [[97.3], [94.7, 95.5], [], [22, 21, 97.3, 22, ...\n",
       "8            8  P102.1  [[98.7, 94.8], [96.4, 84], [], [], [52, 52, 10...\n",
       "9            9  P104.3  [[73.18], [73.18], [67.08, 70.9], [13.8], [92]...\n",
       "10          10  P105.3  [[], [], [98.1, 100, 890, 683], [], [801, 865,...\n",
       "11          11  P106.3  [[], [], [], [9.28], [0.02], [], [], [9.28], [...\n",
       "12          12  P108.3  [[], [0.1], [0], [0], [0], [], [73.18], [0], [0]]\n",
       "13          13  P151.1      [[0, 95.52], [], [0, 95.52], [0], [0, 95.52]]"
      ]
     },
     "execution_count": 126,
     "metadata": {},
     "output_type": "execute_result"
    }
   ],
   "source": [
    "for i in pred1.index:\n",
    "    pred1['valeur'][i]= [item.split(' ') for item in pred1['valeur'][i]]\n",
    "\n",
    "pred1"
   ]
  },
  {
   "cell_type": "code",
   "execution_count": 127,
   "id": "752f9b16-8db6-4e39-93af-17420a6996b7",
   "metadata": {},
   "outputs": [
    {
     "data": {
      "text/html": [
       "<div>\n",
       "<style scoped>\n",
       "    .dataframe tbody tr th:only-of-type {\n",
       "        vertical-align: middle;\n",
       "    }\n",
       "\n",
       "    .dataframe tbody tr th {\n",
       "        vertical-align: top;\n",
       "    }\n",
       "\n",
       "    .dataframe thead th {\n",
       "        text-align: right;\n",
       "    }\n",
       "</style>\n",
       "<table border=\"1\" class=\"dataframe\">\n",
       "  <thead>\n",
       "    <tr style=\"text-align: right;\">\n",
       "      <th></th>\n",
       "      <th>Unnamed: 0</th>\n",
       "      <th>indic</th>\n",
       "      <th>valeur</th>\n",
       "    </tr>\n",
       "  </thead>\n",
       "  <tbody>\n",
       "    <tr>\n",
       "      <th>0</th>\n",
       "      <td>0</td>\n",
       "      <td>D102.0</td>\n",
       "      <td>[, 86, 134, 1, 2020, 1, 2021, 0, 0, 60.92, 61....</td>\n",
       "    </tr>\n",
       "    <tr>\n",
       "      <th>1</th>\n",
       "      <td>1</td>\n",
       "      <td>P103.2</td>\n",
       "      <td>[10, , , 2020, 69, 30, 2020, 0.02, 0, 0, 0.02,...</td>\n",
       "    </tr>\n",
       "    <tr>\n",
       "      <th>2</th>\n",
       "      <td>2</td>\n",
       "      <td>P107.2</td>\n",
       "      <td>[73.18, , 66.0, 36.0, 2, , 71, 3, 3, , 0, 0.02...</td>\n",
       "    </tr>\n",
       "    <tr>\n",
       "      <th>3</th>\n",
       "      <td>3</td>\n",
       "      <td>P109.0</td>\n",
       "      <td>[, 0, 0, 0]</td>\n",
       "    </tr>\n",
       "    <tr>\n",
       "      <th>4</th>\n",
       "      <td>4</td>\n",
       "      <td>P153.2</td>\n",
       "      <td>[0]</td>\n",
       "    </tr>\n",
       "    <tr>\n",
       "      <th>5</th>\n",
       "      <td>5</td>\n",
       "      <td>P154.0</td>\n",
       "      <td>[, 0, 0, 0]</td>\n",
       "    </tr>\n",
       "    <tr>\n",
       "      <th>6</th>\n",
       "      <td>6</td>\n",
       "      <td>P155.1</td>\n",
       "      <td>[53, 076.82, 0.96, 5, 235, 0.96, 53, 076.82, 0...</td>\n",
       "    </tr>\n",
       "    <tr>\n",
       "      <th>7</th>\n",
       "      <td>7</td>\n",
       "      <td>P101.1</td>\n",
       "      <td>[97.3, 94.7, 95.5, , 22, 21, 97.3, 22, 22, 100...</td>\n",
       "    </tr>\n",
       "    <tr>\n",
       "      <th>8</th>\n",
       "      <td>8</td>\n",
       "      <td>P102.1</td>\n",
       "      <td>[98.7, 94.8, 96.4, 84, , , 52, 52, 100, 22, 22...</td>\n",
       "    </tr>\n",
       "    <tr>\n",
       "      <th>9</th>\n",
       "      <td>9</td>\n",
       "      <td>P104.3</td>\n",
       "      <td>[73.18, 73.18, 67.08, 70.9, 13.8, 92, , , 98.1...</td>\n",
       "    </tr>\n",
       "    <tr>\n",
       "      <th>10</th>\n",
       "      <td>10</td>\n",
       "      <td>P105.3</td>\n",
       "      <td>[, , 98.1, 100, 890, 683, , 801, 865, 798, 571...</td>\n",
       "    </tr>\n",
       "    <tr>\n",
       "      <th>11</th>\n",
       "      <td>11</td>\n",
       "      <td>P106.3</td>\n",
       "      <td>[, , , 9.28, 0.02, , , 9.28, 10.08, 9.28, , 10...</td>\n",
       "    </tr>\n",
       "    <tr>\n",
       "      <th>12</th>\n",
       "      <td>12</td>\n",
       "      <td>P108.3</td>\n",
       "      <td>[, 0.1, 0, 0, 0, , 73.18, 0, 0]</td>\n",
       "    </tr>\n",
       "    <tr>\n",
       "      <th>13</th>\n",
       "      <td>13</td>\n",
       "      <td>P151.1</td>\n",
       "      <td>[0, 95.52, , 0, 95.52, 0, 0, 95.52]</td>\n",
       "    </tr>\n",
       "  </tbody>\n",
       "</table>\n",
       "</div>"
      ],
      "text/plain": [
       "    Unnamed: 0   indic                                             valeur\n",
       "0            0  D102.0  [, 86, 134, 1, 2020, 1, 2021, 0, 0, 60.92, 61....\n",
       "1            1  P103.2  [10, , , 2020, 69, 30, 2020, 0.02, 0, 0, 0.02,...\n",
       "2            2  P107.2  [73.18, , 66.0, 36.0, 2, , 71, 3, 3, , 0, 0.02...\n",
       "3            3  P109.0                                        [, 0, 0, 0]\n",
       "4            4  P153.2                                                [0]\n",
       "5            5  P154.0                                        [, 0, 0, 0]\n",
       "6            6  P155.1  [53, 076.82, 0.96, 5, 235, 0.96, 53, 076.82, 0...\n",
       "7            7  P101.1  [97.3, 94.7, 95.5, , 22, 21, 97.3, 22, 22, 100...\n",
       "8            8  P102.1  [98.7, 94.8, 96.4, 84, , , 52, 52, 100, 22, 22...\n",
       "9            9  P104.3  [73.18, 73.18, 67.08, 70.9, 13.8, 92, , , 98.1...\n",
       "10          10  P105.3  [, , 98.1, 100, 890, 683, , 801, 865, 798, 571...\n",
       "11          11  P106.3  [, , , 9.28, 0.02, , , 9.28, 10.08, 9.28, , 10...\n",
       "12          12  P108.3                    [, 0.1, 0, 0, 0, , 73.18, 0, 0]\n",
       "13          13  P151.1                [0, 95.52, , 0, 95.52, 0, 0, 95.52]"
      ]
     },
     "execution_count": 127,
     "metadata": {},
     "output_type": "execute_result"
    }
   ],
   "source": [
    "for l in pred1.index:\n",
    "    temp=[]\n",
    "    for i in pred1['valeur'][l]:\n",
    "        for j in i:\n",
    "            temp.append(j)\n",
    "    pred1['valeur'][l]=temp\n",
    "pred1"
   ]
  },
  {
   "cell_type": "code",
   "execution_count": 128,
   "id": "c19247aa-b1d1-44d2-91e0-38c78c53f8de",
   "metadata": {},
   "outputs": [],
   "source": [
    "import re"
   ]
  },
  {
   "cell_type": "code",
   "execution_count": 135,
   "id": "88b5b06b-d001-47fb-a4b3-74be2434b804",
   "metadata": {},
   "outputs": [],
   "source": [
    "for l in pred1.index:\n",
    "    for i in pred1['valeur'][l]:\n",
    "        if (i==''):\n",
    "            pred1['valeur'][l].remove(i)"
   ]
  },
  {
   "cell_type": "code",
   "execution_count": 136,
   "id": "13cc3bb2-770b-4545-9c76-229e43a2a3b3",
   "metadata": {},
   "outputs": [
    {
     "data": {
      "text/html": [
       "<div>\n",
       "<style scoped>\n",
       "    .dataframe tbody tr th:only-of-type {\n",
       "        vertical-align: middle;\n",
       "    }\n",
       "\n",
       "    .dataframe tbody tr th {\n",
       "        vertical-align: top;\n",
       "    }\n",
       "\n",
       "    .dataframe thead th {\n",
       "        text-align: right;\n",
       "    }\n",
       "</style>\n",
       "<table border=\"1\" class=\"dataframe\">\n",
       "  <thead>\n",
       "    <tr style=\"text-align: right;\">\n",
       "      <th></th>\n",
       "      <th>Unnamed: 0</th>\n",
       "      <th>indic</th>\n",
       "      <th>valeur</th>\n",
       "    </tr>\n",
       "  </thead>\n",
       "  <tbody>\n",
       "    <tr>\n",
       "      <th>0</th>\n",
       "      <td>0</td>\n",
       "      <td>D102.0</td>\n",
       "      <td>[86.0, 134.0, 1.0, 2020.0, 1.0, 2021.0, 0.0, 0...</td>\n",
       "    </tr>\n",
       "    <tr>\n",
       "      <th>1</th>\n",
       "      <td>1</td>\n",
       "      <td>P103.2</td>\n",
       "      <td>[10.0, 2020.0, 69.0, 30.0, 2020.0, 0.02, 0.0, ...</td>\n",
       "    </tr>\n",
       "    <tr>\n",
       "      <th>2</th>\n",
       "      <td>2</td>\n",
       "      <td>P107.2</td>\n",
       "      <td>[73.18, 66.0, 36.0, 2.0, 71.0, 3.0, 3.0, 0.0, ...</td>\n",
       "    </tr>\n",
       "    <tr>\n",
       "      <th>3</th>\n",
       "      <td>3</td>\n",
       "      <td>P109.0</td>\n",
       "      <td>[0.0, 0.0, 0.0]</td>\n",
       "    </tr>\n",
       "    <tr>\n",
       "      <th>4</th>\n",
       "      <td>4</td>\n",
       "      <td>P153.2</td>\n",
       "      <td>[0.0]</td>\n",
       "    </tr>\n",
       "    <tr>\n",
       "      <th>5</th>\n",
       "      <td>5</td>\n",
       "      <td>P154.0</td>\n",
       "      <td>[0.0, 0.0, 0.0]</td>\n",
       "    </tr>\n",
       "    <tr>\n",
       "      <th>6</th>\n",
       "      <td>6</td>\n",
       "      <td>P155.1</td>\n",
       "      <td>[53.0, 76.82, 0.96, 5.0, 235.0, 0.96, 53.0, 76...</td>\n",
       "    </tr>\n",
       "    <tr>\n",
       "      <th>7</th>\n",
       "      <td>7</td>\n",
       "      <td>P101.1</td>\n",
       "      <td>[97.3, 94.7, 95.5, 22, 21, 97.3, 22, 22, 100, ...</td>\n",
       "    </tr>\n",
       "    <tr>\n",
       "      <th>8</th>\n",
       "      <td>8</td>\n",
       "      <td>P102.1</td>\n",
       "      <td>[98.7, 94.8, 96.4, 84, 52, 52, 100, 22, 22, 10...</td>\n",
       "    </tr>\n",
       "    <tr>\n",
       "      <th>9</th>\n",
       "      <td>9</td>\n",
       "      <td>P104.3</td>\n",
       "      <td>[73.18, 73.18, 67.08, 70.9, 13.8, 92, 98.1, 73...</td>\n",
       "    </tr>\n",
       "    <tr>\n",
       "      <th>10</th>\n",
       "      <td>10</td>\n",
       "      <td>P105.3</td>\n",
       "      <td>[98.1, 100, 890, 683, 801, 865, 798, 571, 788,...</td>\n",
       "    </tr>\n",
       "    <tr>\n",
       "      <th>11</th>\n",
       "      <td>11</td>\n",
       "      <td>P106.3</td>\n",
       "      <td>[9.28, 0.02, 9.28, 10.08, 9.28, 10.27, 10.27, ...</td>\n",
       "    </tr>\n",
       "    <tr>\n",
       "      <th>12</th>\n",
       "      <td>12</td>\n",
       "      <td>P108.3</td>\n",
       "      <td>[0.1, 0, 0, 0, 73.18, 0, 0]</td>\n",
       "    </tr>\n",
       "    <tr>\n",
       "      <th>13</th>\n",
       "      <td>13</td>\n",
       "      <td>P151.1</td>\n",
       "      <td>[0, 95.52, 0, 95.52, 0, 0, 95.52]</td>\n",
       "    </tr>\n",
       "  </tbody>\n",
       "</table>\n",
       "</div>"
      ],
      "text/plain": [
       "    Unnamed: 0   indic                                             valeur\n",
       "0            0  D102.0  [86.0, 134.0, 1.0, 2020.0, 1.0, 2021.0, 0.0, 0...\n",
       "1            1  P103.2  [10.0, 2020.0, 69.0, 30.0, 2020.0, 0.02, 0.0, ...\n",
       "2            2  P107.2  [73.18, 66.0, 36.0, 2.0, 71.0, 3.0, 3.0, 0.0, ...\n",
       "3            3  P109.0                                    [0.0, 0.0, 0.0]\n",
       "4            4  P153.2                                              [0.0]\n",
       "5            5  P154.0                                    [0.0, 0.0, 0.0]\n",
       "6            6  P155.1  [53.0, 76.82, 0.96, 5.0, 235.0, 0.96, 53.0, 76...\n",
       "7            7  P101.1  [97.3, 94.7, 95.5, 22, 21, 97.3, 22, 22, 100, ...\n",
       "8            8  P102.1  [98.7, 94.8, 96.4, 84, 52, 52, 100, 22, 22, 10...\n",
       "9            9  P104.3  [73.18, 73.18, 67.08, 70.9, 13.8, 92, 98.1, 73...\n",
       "10          10  P105.3  [98.1, 100, 890, 683, 801, 865, 798, 571, 788,...\n",
       "11          11  P106.3  [9.28, 0.02, 9.28, 10.08, 9.28, 10.27, 10.27, ...\n",
       "12          12  P108.3                        [0.1, 0, 0, 0, 73.18, 0, 0]\n",
       "13          13  P151.1                  [0, 95.52, 0, 95.52, 0, 0, 95.52]"
      ]
     },
     "execution_count": 136,
     "metadata": {},
     "output_type": "execute_result"
    }
   ],
   "source": [
    "pred1"
   ]
  },
  {
   "cell_type": "code",
   "execution_count": 137,
   "id": "0970ae94-d77f-432b-a35b-b03c7b801fac",
   "metadata": {},
   "outputs": [
    {
     "name": "stdout",
     "output_type": "stream",
     "text": [
      "0 [86.0, 134.0, 1.0, 2020.0, 1.0, 2021.0, 0.0, 0.0, 60.92, 61.9, 1.61, 0.0]\n",
      "1 [10.0, 2020.0, 69.0, 30.0, 2020.0, 0.02, 0.0, 0.0, 0.02, 25.33, 0.0, 0.0, 0.0, 0.0, 104.0, 110.0, 120.0, 107.0, 134.0, 8.0, 0.0, 2020.0, 69.0, 30.0, 2020.0]\n",
      "2 [73.18, 66.0, 36.0, 2.0, 71.0, 3.0, 3.0, 0.0, 0.02, 98.6, 0.02, 0.02, 0.02, 0.02, 73.18, 0.0, 2.0, 62.41, 0.02, 0.02, 0.0]\n",
      "3 [0.0, 0.0, 0.0]\n",
      "4 [0.0]\n",
      "5 [0.0, 0.0, 0.0]\n",
      "6 [53.0, 76.82, 0.96, 5.0, 235.0, 0.96, 53.0, 76.82, 0.96, 5.0, 235.0, 0.96]\n",
      "7 ['97.3', '94.7', '95.5', '22', '21', '97.3', '22', '22', '100', '98', '98.1', '100', '890', '683', '98', '98.1', '98', '98', '97.3', '94.7', '95.5', '22', '21', '97.3', '22', '22', '100', '98']\n",
      "8 ['98.7', '94.8', '96.4', '84', '52', '52', '100', '22', '22', '100', '100', '2020', '2184', '16', '12', '2020', '98.1', '100', '890', '683', '100', '98.1', '100', '890', '683', '100', '100', '100', '100', '98.7', '94.8', '100', '98.7', '94.8', '96.4', '84', '52', '52', '100', '22', '22', '100', '100']\n",
      "9 ['73.18', '73.18', '67.08', '70.9', '13.8', '92', '98.1', '73.18', '98.1', '73.18', '73.18', '73.18', '67.08', '70.9', '13.8', '69.13', '69.67', '69.29', '73.18', '5.6', '66.92', '67.35', '67.06', '70.87', '5.68']\n",
      "10 ['98.1', '100', '890', '683', '801', '865', '798', '571', '788', '163', '7', '222', '5235', '1', '887', '1', '647', '1', '791', '2', '40', '17.936', '9.96', '0', '0', '0', '67.08', '11.87', '9.96', '73.18', '0', '0', '222', '0', '0', '0', '9.96', '0']\n",
      "11 ['9.28', '0.02', '9.28', '10.08', '9.28', '10.27', '10.27', '10.08', '9.28', '7.94', '024681012', '2017', '0', '9.28', '0.116']\n",
      "12 ['0.1', '0', '0', '0', '73.18', '0', '0']\n",
      "13 ['0', '95.52', '0', '95.52', '0', '0', '95.52']\n"
     ]
    }
   ],
   "source": [
    "for i in pred1.index:\n",
    "    mylist = []\n",
    "    print(i, pred1['valeur'][i])\n",
    "    for item in pred1['valeur'][i]:\n",
    "        mylist.append(float(item))\n",
    "    pred1['valeur'][i]=mylist"
   ]
  },
  {
   "cell_type": "code",
   "execution_count": 138,
   "id": "e575ba28-4852-41f3-88f9-8fb48a8f20a0",
   "metadata": {},
   "outputs": [],
   "source": [
    "#for i in pred1['valeur'][1]:\n",
    "  #  if (re.findall('\\d+',i)==[]):\n",
    " #       pred1['valeur'][1].remove(i)"
   ]
  },
  {
   "cell_type": "code",
   "execution_count": 139,
   "id": "0d35cae9-30ed-40a2-8c47-8d8168dca8c2",
   "metadata": {},
   "outputs": [],
   "source": [
    "#for i in pred1.index:\n",
    " #   mylist = []\n",
    "  #  for item in pred1['valeur'][i]:\n",
    "   #     if pred1[\"valeur\"][i][item]=='':\n",
    "    #        print(i, item)\n",
    "     #       pred1['valeur'][i].remove(item)"
   ]
  },
  {
   "cell_type": "code",
   "execution_count": 141,
   "id": "39e1c580-c870-46d6-a99a-988ee5742159",
   "metadata": {},
   "outputs": [],
   "source": [
    "for i in pred1.index:\n",
    "    pred1[\"valeur\"][i]=set(pred1[\"valeur\"][i])"
   ]
  },
  {
   "cell_type": "code",
   "execution_count": 142,
   "id": "0c45f663-562d-4ba2-8c8e-aba7b708195f",
   "metadata": {},
   "outputs": [
    {
     "data": {
      "text/html": [
       "<div>\n",
       "<style scoped>\n",
       "    .dataframe tbody tr th:only-of-type {\n",
       "        vertical-align: middle;\n",
       "    }\n",
       "\n",
       "    .dataframe tbody tr th {\n",
       "        vertical-align: top;\n",
       "    }\n",
       "\n",
       "    .dataframe thead th {\n",
       "        text-align: right;\n",
       "    }\n",
       "</style>\n",
       "<table border=\"1\" class=\"dataframe\">\n",
       "  <thead>\n",
       "    <tr style=\"text-align: right;\">\n",
       "      <th></th>\n",
       "      <th>Unnamed: 0</th>\n",
       "      <th>indic</th>\n",
       "      <th>valeur</th>\n",
       "    </tr>\n",
       "  </thead>\n",
       "  <tbody>\n",
       "    <tr>\n",
       "      <th>0</th>\n",
       "      <td>0</td>\n",
       "      <td>D102.0</td>\n",
       "      <td>{0.0, 1.0, 1.61, 2020.0, 2021.0, 134.0, 86.0, ...</td>\n",
       "    </tr>\n",
       "    <tr>\n",
       "      <th>1</th>\n",
       "      <td>1</td>\n",
       "      <td>P103.2</td>\n",
       "      <td>{0.0, 2020.0, 69.0, 134.0, 104.0, 8.0, 10.0, 1...</td>\n",
       "    </tr>\n",
       "    <tr>\n",
       "      <th>2</th>\n",
       "      <td>2</td>\n",
       "      <td>P107.2</td>\n",
       "      <td>{0.0, 66.0, 2.0, 36.0, 3.0, 98.6, 71.0, 73.18,...</td>\n",
       "    </tr>\n",
       "    <tr>\n",
       "      <th>3</th>\n",
       "      <td>3</td>\n",
       "      <td>P109.0</td>\n",
       "      <td>{0.0}</td>\n",
       "    </tr>\n",
       "    <tr>\n",
       "      <th>4</th>\n",
       "      <td>4</td>\n",
       "      <td>P153.2</td>\n",
       "      <td>{0.0}</td>\n",
       "    </tr>\n",
       "    <tr>\n",
       "      <th>5</th>\n",
       "      <td>5</td>\n",
       "      <td>P154.0</td>\n",
       "      <td>{0.0}</td>\n",
       "    </tr>\n",
       "    <tr>\n",
       "      <th>6</th>\n",
       "      <td>6</td>\n",
       "      <td>P155.1</td>\n",
       "      <td>{0.96, 5.0, 53.0, 235.0, 76.82}</td>\n",
       "    </tr>\n",
       "    <tr>\n",
       "      <th>7</th>\n",
       "      <td>7</td>\n",
       "      <td>P101.1</td>\n",
       "      <td>{97.3, 98.0, 98.1, 100.0, 683.0, 21.0, 22.0, 8...</td>\n",
       "    </tr>\n",
       "    <tr>\n",
       "      <th>8</th>\n",
       "      <td>8</td>\n",
       "      <td>P102.1</td>\n",
       "      <td>{96.4, 98.7, 98.1, 100.0, 2020.0, 2184.0, 683....</td>\n",
       "    </tr>\n",
       "    <tr>\n",
       "      <th>9</th>\n",
       "      <td>9</td>\n",
       "      <td>P104.3</td>\n",
       "      <td>{98.1, 67.08, 66.92, 69.13, 70.9, 69.67, 69.29...</td>\n",
       "    </tr>\n",
       "    <tr>\n",
       "      <th>10</th>\n",
       "      <td>10</td>\n",
       "      <td>P105.3</td>\n",
       "      <td>{0.0, 1.0, 2.0, 67.08, 7.0, 647.0, 9.96, 73.18...</td>\n",
       "    </tr>\n",
       "    <tr>\n",
       "      <th>11</th>\n",
       "      <td>11</td>\n",
       "      <td>P106.3</td>\n",
       "      <td>{0.0, 2017.0, 0.116, 7.94, 9.28, 10.08, 10.27,...</td>\n",
       "    </tr>\n",
       "    <tr>\n",
       "      <th>12</th>\n",
       "      <td>12</td>\n",
       "      <td>P108.3</td>\n",
       "      <td>{0.1, 0.0, 73.18}</td>\n",
       "    </tr>\n",
       "    <tr>\n",
       "      <th>13</th>\n",
       "      <td>13</td>\n",
       "      <td>P151.1</td>\n",
       "      <td>{0.0, 95.52}</td>\n",
       "    </tr>\n",
       "  </tbody>\n",
       "</table>\n",
       "</div>"
      ],
      "text/plain": [
       "    Unnamed: 0   indic                                             valeur\n",
       "0            0  D102.0  {0.0, 1.0, 1.61, 2020.0, 2021.0, 134.0, 86.0, ...\n",
       "1            1  P103.2  {0.0, 2020.0, 69.0, 134.0, 104.0, 8.0, 10.0, 1...\n",
       "2            2  P107.2  {0.0, 66.0, 2.0, 36.0, 3.0, 98.6, 71.0, 73.18,...\n",
       "3            3  P109.0                                              {0.0}\n",
       "4            4  P153.2                                              {0.0}\n",
       "5            5  P154.0                                              {0.0}\n",
       "6            6  P155.1                    {0.96, 5.0, 53.0, 235.0, 76.82}\n",
       "7            7  P101.1  {97.3, 98.0, 98.1, 100.0, 683.0, 21.0, 22.0, 8...\n",
       "8            8  P102.1  {96.4, 98.7, 98.1, 100.0, 2020.0, 2184.0, 683....\n",
       "9            9  P104.3  {98.1, 67.08, 66.92, 69.13, 70.9, 69.67, 69.29...\n",
       "10          10  P105.3  {0.0, 1.0, 2.0, 67.08, 7.0, 647.0, 9.96, 73.18...\n",
       "11          11  P106.3  {0.0, 2017.0, 0.116, 7.94, 9.28, 10.08, 10.27,...\n",
       "12          12  P108.3                                  {0.1, 0.0, 73.18}\n",
       "13          13  P151.1                                       {0.0, 95.52}"
      ]
     },
     "execution_count": 142,
     "metadata": {},
     "output_type": "execute_result"
    }
   ],
   "source": [
    "pred1"
   ]
  },
  {
   "cell_type": "code",
   "execution_count": 143,
   "id": "7a3e805c-c1c9-4894-b722-57ffd7e121ae",
   "metadata": {},
   "outputs": [],
   "source": [
    "S3_ENDPOINT_URL = \"https://\" + os.environ[\"AWS_S3_ENDPOINT\"]\n",
    "fs = s3fs.S3FileSystem(client_kwargs={'endpoint_url': S3_ENDPOINT_URL})\n",
    "BUCKET = \"mberthe/narval\"\n",
    "FILE_KEY_S3 = \"camemBERT/bornes.csv\"\n",
    "FILE_PATH_S3 = BUCKET + \"/\" + FILE_KEY_S3\n",
    "\n",
    "with fs.open(FILE_PATH_S3, mode=\"rb\",index=False) as file_in:\n",
    "    df = pd.read_csv(file_in)"
   ]
  },
  {
   "cell_type": "code",
   "execution_count": 145,
   "id": "c67b4977-4feb-4094-a1d4-d49bf72a7485",
   "metadata": {},
   "outputs": [],
   "source": [
    "pred1['min']=\"\"\n",
    "pred1['max']=\"\"\n",
    "for i in df.index:\n",
    "    for j in pred1.index:\n",
    "        if df['indic'][i]==pred1['indic'][j]:\n",
    "            pred1[\"min\"][j]=df['min'][i]\n",
    "            pred1['max'][j]=df['max'][i]"
   ]
  },
  {
   "cell_type": "code",
   "execution_count": 146,
   "id": "7071b6f9-f52a-4504-aeff-7c2e3b711977",
   "metadata": {},
   "outputs": [
    {
     "data": {
      "text/html": [
       "<div>\n",
       "<style scoped>\n",
       "    .dataframe tbody tr th:only-of-type {\n",
       "        vertical-align: middle;\n",
       "    }\n",
       "\n",
       "    .dataframe tbody tr th {\n",
       "        vertical-align: top;\n",
       "    }\n",
       "\n",
       "    .dataframe thead th {\n",
       "        text-align: right;\n",
       "    }\n",
       "</style>\n",
       "<table border=\"1\" class=\"dataframe\">\n",
       "  <thead>\n",
       "    <tr style=\"text-align: right;\">\n",
       "      <th></th>\n",
       "      <th>Unnamed: 0</th>\n",
       "      <th>indic</th>\n",
       "      <th>valeur</th>\n",
       "      <th>min</th>\n",
       "      <th>max</th>\n",
       "    </tr>\n",
       "  </thead>\n",
       "  <tbody>\n",
       "    <tr>\n",
       "      <th>0</th>\n",
       "      <td>0</td>\n",
       "      <td>D102.0</td>\n",
       "      <td>{0.0, 1.0, 1.61, 2020.0, 2021.0, 134.0, 86.0, ...</td>\n",
       "      <td>1.0</td>\n",
       "      <td>4.0</td>\n",
       "    </tr>\n",
       "    <tr>\n",
       "      <th>1</th>\n",
       "      <td>1</td>\n",
       "      <td>P103.2</td>\n",
       "      <td>{0.0, 2020.0, 69.0, 134.0, 104.0, 8.0, 10.0, 1...</td>\n",
       "      <td>0.0</td>\n",
       "      <td>120.0</td>\n",
       "    </tr>\n",
       "    <tr>\n",
       "      <th>2</th>\n",
       "      <td>2</td>\n",
       "      <td>P107.2</td>\n",
       "      <td>{0.0, 66.0, 2.0, 36.0, 3.0, 98.6, 71.0, 73.18,...</td>\n",
       "      <td>0.0</td>\n",
       "      <td>3.0</td>\n",
       "    </tr>\n",
       "    <tr>\n",
       "      <th>3</th>\n",
       "      <td>3</td>\n",
       "      <td>P109.0</td>\n",
       "      <td>{0.0}</td>\n",
       "      <td>0.0</td>\n",
       "      <td>0.1</td>\n",
       "    </tr>\n",
       "    <tr>\n",
       "      <th>4</th>\n",
       "      <td>4</td>\n",
       "      <td>P153.2</td>\n",
       "      <td>{0.0}</td>\n",
       "      <td>0.0</td>\n",
       "      <td>30.0</td>\n",
       "    </tr>\n",
       "    <tr>\n",
       "      <th>5</th>\n",
       "      <td>5</td>\n",
       "      <td>P154.0</td>\n",
       "      <td>{0.0}</td>\n",
       "      <td>0.0</td>\n",
       "      <td>5.0</td>\n",
       "    </tr>\n",
       "    <tr>\n",
       "      <th>6</th>\n",
       "      <td>6</td>\n",
       "      <td>P155.1</td>\n",
       "      <td>{0.96, 5.0, 53.0, 235.0, 76.82}</td>\n",
       "      <td>0.0</td>\n",
       "      <td>50.0</td>\n",
       "    </tr>\n",
       "    <tr>\n",
       "      <th>7</th>\n",
       "      <td>7</td>\n",
       "      <td>P101.1</td>\n",
       "      <td>{97.3, 98.0, 98.1, 100.0, 683.0, 21.0, 22.0, 8...</td>\n",
       "      <td>25.0</td>\n",
       "      <td>100.0</td>\n",
       "    </tr>\n",
       "    <tr>\n",
       "      <th>8</th>\n",
       "      <td>8</td>\n",
       "      <td>P102.1</td>\n",
       "      <td>{96.4, 98.7, 98.1, 100.0, 2020.0, 2184.0, 683....</td>\n",
       "      <td>25.0</td>\n",
       "      <td>100.0</td>\n",
       "    </tr>\n",
       "    <tr>\n",
       "      <th>9</th>\n",
       "      <td>9</td>\n",
       "      <td>P104.3</td>\n",
       "      <td>{98.1, 67.08, 66.92, 69.13, 70.9, 69.67, 69.29...</td>\n",
       "      <td>50.0</td>\n",
       "      <td>95.0</td>\n",
       "    </tr>\n",
       "    <tr>\n",
       "      <th>10</th>\n",
       "      <td>10</td>\n",
       "      <td>P105.3</td>\n",
       "      <td>{0.0, 1.0, 2.0, 67.08, 7.0, 647.0, 9.96, 73.18...</td>\n",
       "      <td>0.1</td>\n",
       "      <td>20.0</td>\n",
       "    </tr>\n",
       "    <tr>\n",
       "      <th>11</th>\n",
       "      <td>11</td>\n",
       "      <td>P106.3</td>\n",
       "      <td>{0.0, 2017.0, 0.116, 7.94, 9.28, 10.08, 10.27,...</td>\n",
       "      <td>0.1</td>\n",
       "      <td>20.0</td>\n",
       "    </tr>\n",
       "    <tr>\n",
       "      <th>12</th>\n",
       "      <td>12</td>\n",
       "      <td>P108.3</td>\n",
       "      <td>{0.1, 0.0, 73.18}</td>\n",
       "      <td>20.0</td>\n",
       "      <td>100.0</td>\n",
       "    </tr>\n",
       "    <tr>\n",
       "      <th>13</th>\n",
       "      <td>13</td>\n",
       "      <td>P151.1</td>\n",
       "      <td>{0.0, 95.52}</td>\n",
       "      <td>0.0</td>\n",
       "      <td>20.0</td>\n",
       "    </tr>\n",
       "  </tbody>\n",
       "</table>\n",
       "</div>"
      ],
      "text/plain": [
       "    Unnamed: 0   indic                                             valeur   \n",
       "0            0  D102.0  {0.0, 1.0, 1.61, 2020.0, 2021.0, 134.0, 86.0, ...  \\\n",
       "1            1  P103.2  {0.0, 2020.0, 69.0, 134.0, 104.0, 8.0, 10.0, 1...   \n",
       "2            2  P107.2  {0.0, 66.0, 2.0, 36.0, 3.0, 98.6, 71.0, 73.18,...   \n",
       "3            3  P109.0                                              {0.0}   \n",
       "4            4  P153.2                                              {0.0}   \n",
       "5            5  P154.0                                              {0.0}   \n",
       "6            6  P155.1                    {0.96, 5.0, 53.0, 235.0, 76.82}   \n",
       "7            7  P101.1  {97.3, 98.0, 98.1, 100.0, 683.0, 21.0, 22.0, 8...   \n",
       "8            8  P102.1  {96.4, 98.7, 98.1, 100.0, 2020.0, 2184.0, 683....   \n",
       "9            9  P104.3  {98.1, 67.08, 66.92, 69.13, 70.9, 69.67, 69.29...   \n",
       "10          10  P105.3  {0.0, 1.0, 2.0, 67.08, 7.0, 647.0, 9.96, 73.18...   \n",
       "11          11  P106.3  {0.0, 2017.0, 0.116, 7.94, 9.28, 10.08, 10.27,...   \n",
       "12          12  P108.3                                  {0.1, 0.0, 73.18}   \n",
       "13          13  P151.1                                       {0.0, 95.52}   \n",
       "\n",
       "     min    max  \n",
       "0    1.0    4.0  \n",
       "1    0.0  120.0  \n",
       "2    0.0    3.0  \n",
       "3    0.0    0.1  \n",
       "4    0.0   30.0  \n",
       "5    0.0    5.0  \n",
       "6    0.0   50.0  \n",
       "7   25.0  100.0  \n",
       "8   25.0  100.0  \n",
       "9   50.0   95.0  \n",
       "10   0.1   20.0  \n",
       "11   0.1   20.0  \n",
       "12  20.0  100.0  \n",
       "13   0.0   20.0  "
      ]
     },
     "execution_count": 146,
     "metadata": {},
     "output_type": "execute_result"
    }
   ],
   "source": [
    "pred1"
   ]
  },
  {
   "cell_type": "code",
   "execution_count": 147,
   "id": "2abc4dd2-8ed1-4a22-98e0-74768bb63cfc",
   "metadata": {},
   "outputs": [],
   "source": [
    "for i in pred1.index:\n",
    "    temp=[]\n",
    "    for x in pred1['valeur'][i]:\n",
    "        if (x<pred1['min'][i]) or (x>pred1['max'][i]):\n",
    "            temp.append(x)\n",
    "    for x in temp:\n",
    "        pred1['valeur'][i].remove(x)"
   ]
  },
  {
   "cell_type": "code",
   "execution_count": 148,
   "id": "8449c8a1-6975-43fe-91b9-7e5e9cc29ed5",
   "metadata": {},
   "outputs": [
    {
     "data": {
      "text/html": [
       "<div>\n",
       "<style scoped>\n",
       "    .dataframe tbody tr th:only-of-type {\n",
       "        vertical-align: middle;\n",
       "    }\n",
       "\n",
       "    .dataframe tbody tr th {\n",
       "        vertical-align: top;\n",
       "    }\n",
       "\n",
       "    .dataframe thead th {\n",
       "        text-align: right;\n",
       "    }\n",
       "</style>\n",
       "<table border=\"1\" class=\"dataframe\">\n",
       "  <thead>\n",
       "    <tr style=\"text-align: right;\">\n",
       "      <th></th>\n",
       "      <th>Unnamed: 0</th>\n",
       "      <th>indic</th>\n",
       "      <th>valeur</th>\n",
       "      <th>min</th>\n",
       "      <th>max</th>\n",
       "    </tr>\n",
       "  </thead>\n",
       "  <tbody>\n",
       "    <tr>\n",
       "      <th>0</th>\n",
       "      <td>0</td>\n",
       "      <td>D102.0</td>\n",
       "      <td>{1.0, 1.61}</td>\n",
       "      <td>1.0</td>\n",
       "      <td>4.0</td>\n",
       "    </tr>\n",
       "    <tr>\n",
       "      <th>1</th>\n",
       "      <td>1</td>\n",
       "      <td>P103.2</td>\n",
       "      <td>{0.0, 69.0, 104.0, 8.0, 10.0, 107.0, 110.0, 0....</td>\n",
       "      <td>0.0</td>\n",
       "      <td>120.0</td>\n",
       "    </tr>\n",
       "    <tr>\n",
       "      <th>2</th>\n",
       "      <td>2</td>\n",
       "      <td>P107.2</td>\n",
       "      <td>{0.0, 2.0, 3.0, 0.02}</td>\n",
       "      <td>0.0</td>\n",
       "      <td>3.0</td>\n",
       "    </tr>\n",
       "    <tr>\n",
       "      <th>3</th>\n",
       "      <td>3</td>\n",
       "      <td>P109.0</td>\n",
       "      <td>{0.0}</td>\n",
       "      <td>0.0</td>\n",
       "      <td>0.1</td>\n",
       "    </tr>\n",
       "    <tr>\n",
       "      <th>4</th>\n",
       "      <td>4</td>\n",
       "      <td>P153.2</td>\n",
       "      <td>{0.0}</td>\n",
       "      <td>0.0</td>\n",
       "      <td>30.0</td>\n",
       "    </tr>\n",
       "    <tr>\n",
       "      <th>5</th>\n",
       "      <td>5</td>\n",
       "      <td>P154.0</td>\n",
       "      <td>{0.0}</td>\n",
       "      <td>0.0</td>\n",
       "      <td>5.0</td>\n",
       "    </tr>\n",
       "    <tr>\n",
       "      <th>6</th>\n",
       "      <td>6</td>\n",
       "      <td>P155.1</td>\n",
       "      <td>{0.96, 5.0}</td>\n",
       "      <td>0.0</td>\n",
       "      <td>50.0</td>\n",
       "    </tr>\n",
       "    <tr>\n",
       "      <th>7</th>\n",
       "      <td>7</td>\n",
       "      <td>P101.1</td>\n",
       "      <td>{97.3, 98.0, 98.1, 100.0, 94.7, 95.5}</td>\n",
       "      <td>25.0</td>\n",
       "      <td>100.0</td>\n",
       "    </tr>\n",
       "    <tr>\n",
       "      <th>8</th>\n",
       "      <td>8</td>\n",
       "      <td>P102.1</td>\n",
       "      <td>{96.4, 98.7, 98.1, 100.0, 84.0, 52.0, 94.8}</td>\n",
       "      <td>25.0</td>\n",
       "      <td>100.0</td>\n",
       "    </tr>\n",
       "    <tr>\n",
       "      <th>9</th>\n",
       "      <td>9</td>\n",
       "      <td>P104.3</td>\n",
       "      <td>{67.08, 66.92, 69.13, 70.9, 69.67, 69.29, 73.1...</td>\n",
       "      <td>50.0</td>\n",
       "      <td>95.0</td>\n",
       "    </tr>\n",
       "    <tr>\n",
       "      <th>10</th>\n",
       "      <td>10</td>\n",
       "      <td>P105.3</td>\n",
       "      <td>{1.0, 2.0, 7.0, 9.96, 11.87, 17.936}</td>\n",
       "      <td>0.1</td>\n",
       "      <td>20.0</td>\n",
       "    </tr>\n",
       "    <tr>\n",
       "      <th>11</th>\n",
       "      <td>11</td>\n",
       "      <td>P106.3</td>\n",
       "      <td>{0.116, 7.94, 9.28, 10.08, 10.27}</td>\n",
       "      <td>0.1</td>\n",
       "      <td>20.0</td>\n",
       "    </tr>\n",
       "    <tr>\n",
       "      <th>12</th>\n",
       "      <td>12</td>\n",
       "      <td>P108.3</td>\n",
       "      <td>{73.18}</td>\n",
       "      <td>20.0</td>\n",
       "      <td>100.0</td>\n",
       "    </tr>\n",
       "    <tr>\n",
       "      <th>13</th>\n",
       "      <td>13</td>\n",
       "      <td>P151.1</td>\n",
       "      <td>{0.0}</td>\n",
       "      <td>0.0</td>\n",
       "      <td>20.0</td>\n",
       "    </tr>\n",
       "  </tbody>\n",
       "</table>\n",
       "</div>"
      ],
      "text/plain": [
       "    Unnamed: 0   indic                                             valeur   \n",
       "0            0  D102.0                                        {1.0, 1.61}  \\\n",
       "1            1  P103.2  {0.0, 69.0, 104.0, 8.0, 10.0, 107.0, 110.0, 0....   \n",
       "2            2  P107.2                              {0.0, 2.0, 3.0, 0.02}   \n",
       "3            3  P109.0                                              {0.0}   \n",
       "4            4  P153.2                                              {0.0}   \n",
       "5            5  P154.0                                              {0.0}   \n",
       "6            6  P155.1                                        {0.96, 5.0}   \n",
       "7            7  P101.1              {97.3, 98.0, 98.1, 100.0, 94.7, 95.5}   \n",
       "8            8  P102.1        {96.4, 98.7, 98.1, 100.0, 84.0, 52.0, 94.8}   \n",
       "9            9  P104.3  {67.08, 66.92, 69.13, 70.9, 69.67, 69.29, 73.1...   \n",
       "10          10  P105.3               {1.0, 2.0, 7.0, 9.96, 11.87, 17.936}   \n",
       "11          11  P106.3                  {0.116, 7.94, 9.28, 10.08, 10.27}   \n",
       "12          12  P108.3                                            {73.18}   \n",
       "13          13  P151.1                                              {0.0}   \n",
       "\n",
       "     min    max  \n",
       "0    1.0    4.0  \n",
       "1    0.0  120.0  \n",
       "2    0.0    3.0  \n",
       "3    0.0    0.1  \n",
       "4    0.0   30.0  \n",
       "5    0.0    5.0  \n",
       "6    0.0   50.0  \n",
       "7   25.0  100.0  \n",
       "8   25.0  100.0  \n",
       "9   50.0   95.0  \n",
       "10   0.1   20.0  \n",
       "11   0.1   20.0  \n",
       "12  20.0  100.0  \n",
       "13   0.0   20.0  "
      ]
     },
     "execution_count": 148,
     "metadata": {},
     "output_type": "execute_result"
    }
   ],
   "source": [
    "pred1"
   ]
  },
  {
   "cell_type": "markdown",
   "id": "303d287e-e49a-4d96-a2e6-0b2365016b45",
   "metadata": {},
   "source": [
    "# MPAGUR"
   ]
  },
  {
   "cell_type": "code",
   "execution_count": 10,
   "id": "ec8b16eb-5c05-41c1-bb5b-eb00012c9d8d",
   "metadata": {},
   "outputs": [],
   "source": [
    "S3_ENDPOINT_URL = \"https://\" + os.environ[\"AWS_S3_ENDPOINT\"]\n",
    "fs = s3fs.S3FileSystem(client_kwargs={'endpoint_url': S3_ENDPOINT_URL})\n",
    "BUCKET = \"mberthe/narval\"\n",
    "FILE_KEY_S3 = \"camemBERT/pre_radMP_T5_xl.csv\"\n",
    "FILE_PATH_S3 = BUCKET + \"/\" + FILE_KEY_S3\n",
    "\n",
    "with fs.open(FILE_PATH_S3, mode=\"rb\",index= False) as file_in:\n",
    "    pred = pd.read_csv(file_in)"
   ]
  },
  {
   "cell_type": "code",
   "execution_count": 11,
   "id": "3b9b8b13-5589-43d5-9f6b-7aaf2ce77d26",
   "metadata": {},
   "outputs": [
    {
     "data": {
      "text/html": [
       "<div>\n",
       "<style scoped>\n",
       "    .dataframe tbody tr th:only-of-type {\n",
       "        vertical-align: middle;\n",
       "    }\n",
       "\n",
       "    .dataframe tbody tr th {\n",
       "        vertical-align: top;\n",
       "    }\n",
       "\n",
       "    .dataframe thead th {\n",
       "        text-align: right;\n",
       "    }\n",
       "</style>\n",
       "<table border=\"1\" class=\"dataframe\">\n",
       "  <thead>\n",
       "    <tr style=\"text-align: right;\">\n",
       "      <th></th>\n",
       "      <th>question</th>\n",
       "      <th>mot</th>\n",
       "      <th>pred</th>\n",
       "    </tr>\n",
       "  </thead>\n",
       "  <tbody>\n",
       "    <tr>\n",
       "      <th>0</th>\n",
       "      <td>Quel est le prix de service au m3 pour l'eau p...</td>\n",
       "      <td>prix</td>\n",
       "      <td>['', '1 0,15 0,50', '']</td>\n",
       "    </tr>\n",
       "    <tr>\n",
       "      <th>1</th>\n",
       "      <td>Quel est le prix du service au m3 pour l'assin...</td>\n",
       "      <td>prix</td>\n",
       "      <td>['105.90 130.11 36.72', '1 0,15 0,50', '']</td>\n",
       "    </tr>\n",
       "    <tr>\n",
       "      <th>2</th>\n",
       "      <td>Quelle est la connaissance du réseau en eau po...</td>\n",
       "      <td>connaissance</td>\n",
       "      <td>['2019', '', '', '', '0 10']</td>\n",
       "    </tr>\n",
       "    <tr>\n",
       "      <th>3</th>\n",
       "      <td>Quel est le taux de connaissance du réseau en ...</td>\n",
       "      <td>connaissance</td>\n",
       "      <td>['75', '80', '', '75 120', '20 20']</td>\n",
       "    </tr>\n",
       "    <tr>\n",
       "      <th>4</th>\n",
       "      <td>Quel est le taux de renouvellement des réseaux...</td>\n",
       "      <td>renouvellement</td>\n",
       "      <td>['98', '', '', '', '0 120', '']</td>\n",
       "    </tr>\n",
       "    <tr>\n",
       "      <th>5</th>\n",
       "      <td>Quel est le taux de renouvellement des réseaux...</td>\n",
       "      <td>renouvellement</td>\n",
       "      <td>['98', '', '6.1 7', '', '0 120', '']</td>\n",
       "    </tr>\n",
       "    <tr>\n",
       "      <th>6</th>\n",
       "      <td>Quelle est la conformité microbiologique de l'...</td>\n",
       "      <td>conformité</td>\n",
       "      <td>['2019 16']</td>\n",
       "    </tr>\n",
       "    <tr>\n",
       "      <th>7</th>\n",
       "      <td>Quelle est la conformité physico-chimique de l...</td>\n",
       "      <td>conformité</td>\n",
       "      <td>['2019 16']</td>\n",
       "    </tr>\n",
       "    <tr>\n",
       "      <th>8</th>\n",
       "      <td>Quel est le rendement du réseau de distribution?</td>\n",
       "      <td>rendement</td>\n",
       "      <td>['98', '73,8']</td>\n",
       "    </tr>\n",
       "    <tr>\n",
       "      <th>9</th>\n",
       "      <td>Quel est la conformité dispositifs assinisseme...</td>\n",
       "      <td>conformité</td>\n",
       "      <td>['', '2019 16', '', '0 100', '0']</td>\n",
       "    </tr>\n",
       "    <tr>\n",
       "      <th>10</th>\n",
       "      <td>Quelle est la valeur de D102.0?</td>\n",
       "      <td>D102.0</td>\n",
       "      <td>[]</td>\n",
       "    </tr>\n",
       "    <tr>\n",
       "      <th>11</th>\n",
       "      <td>Quelle est la valeur de D204.0?</td>\n",
       "      <td>D204.0</td>\n",
       "      <td>['2.69', '0']</td>\n",
       "    </tr>\n",
       "    <tr>\n",
       "      <th>12</th>\n",
       "      <td>Quelle est la valeur de P103.2?</td>\n",
       "      <td>P103.2</td>\n",
       "      <td>[]</td>\n",
       "    </tr>\n",
       "    <tr>\n",
       "      <th>13</th>\n",
       "      <td>Quelle est la valeur de P202.2 ?</td>\n",
       "      <td>P202.2</td>\n",
       "      <td>['75', '75', '0']</td>\n",
       "    </tr>\n",
       "    <tr>\n",
       "      <th>14</th>\n",
       "      <td>Quelle est la valeur de P107.2?</td>\n",
       "      <td>P107.2</td>\n",
       "      <td>[]</td>\n",
       "    </tr>\n",
       "    <tr>\n",
       "      <th>15</th>\n",
       "      <td>Quelle est la valeur de P253.2?</td>\n",
       "      <td>P253.2</td>\n",
       "      <td>['2', '0']</td>\n",
       "    </tr>\n",
       "    <tr>\n",
       "      <th>16</th>\n",
       "      <td>Quelle est la valeur de P101.1?</td>\n",
       "      <td>P101.1</td>\n",
       "      <td>[]</td>\n",
       "    </tr>\n",
       "    <tr>\n",
       "      <th>17</th>\n",
       "      <td>Quelle est la valeur de P102.1?</td>\n",
       "      <td>P102.1</td>\n",
       "      <td>[]</td>\n",
       "    </tr>\n",
       "    <tr>\n",
       "      <th>18</th>\n",
       "      <td>Quelle est la valeur de P104.3?</td>\n",
       "      <td>P104.3</td>\n",
       "      <td>[]</td>\n",
       "    </tr>\n",
       "    <tr>\n",
       "      <th>19</th>\n",
       "      <td>Quelle est la valeur de P301.3?</td>\n",
       "      <td>P301.3</td>\n",
       "      <td>[]</td>\n",
       "    </tr>\n",
       "    <tr>\n",
       "      <th>20</th>\n",
       "      <td>Quelle est la valeur de l'indicateur D102.0?</td>\n",
       "      <td>D102.0</td>\n",
       "      <td>[]</td>\n",
       "    </tr>\n",
       "    <tr>\n",
       "      <th>21</th>\n",
       "      <td>Quelle est la valeur de l'indicateur D104.0?</td>\n",
       "      <td>D104.0</td>\n",
       "      <td>[]</td>\n",
       "    </tr>\n",
       "    <tr>\n",
       "      <th>22</th>\n",
       "      <td>Quelle est la valeur de l'indicateur P103.2?</td>\n",
       "      <td>P103.2</td>\n",
       "      <td>[]</td>\n",
       "    </tr>\n",
       "    <tr>\n",
       "      <th>23</th>\n",
       "      <td>Quelle est la valeur de l'indicateur P202.2?</td>\n",
       "      <td>P202.2</td>\n",
       "      <td>['75', '75', '0']</td>\n",
       "    </tr>\n",
       "    <tr>\n",
       "      <th>24</th>\n",
       "      <td>Quelle est la valeur de l'indicateur P107.2?</td>\n",
       "      <td>P107.2</td>\n",
       "      <td>[]</td>\n",
       "    </tr>\n",
       "    <tr>\n",
       "      <th>25</th>\n",
       "      <td>Quelle est la valeur de l'indicateur P253.2?</td>\n",
       "      <td>P253.2</td>\n",
       "      <td>['2', '0', '0']</td>\n",
       "    </tr>\n",
       "    <tr>\n",
       "      <th>26</th>\n",
       "      <td>Quelle est la valeur de l'indicateur P101.1?</td>\n",
       "      <td>P101.1</td>\n",
       "      <td>[]</td>\n",
       "    </tr>\n",
       "    <tr>\n",
       "      <th>27</th>\n",
       "      <td>Quelle est la valeur de l'indicateur P102.1?</td>\n",
       "      <td>P102.1</td>\n",
       "      <td>[]</td>\n",
       "    </tr>\n",
       "    <tr>\n",
       "      <th>28</th>\n",
       "      <td>Quelle est la valeur de l'indicateur P104.3?</td>\n",
       "      <td>P104.3</td>\n",
       "      <td>[]</td>\n",
       "    </tr>\n",
       "    <tr>\n",
       "      <th>29</th>\n",
       "      <td>Quelle est la valeur de l'indicateur P301.3?</td>\n",
       "      <td>P301.3</td>\n",
       "      <td>[]</td>\n",
       "    </tr>\n",
       "    <tr>\n",
       "      <th>30</th>\n",
       "      <td>Quel est le taux de conformité des dispositif...</td>\n",
       "      <td>coformité</td>\n",
       "      <td>[]</td>\n",
       "    </tr>\n",
       "    <tr>\n",
       "      <th>31</th>\n",
       "      <td>Quelle est la conformité microbiologique de l'...</td>\n",
       "      <td>microbiologie</td>\n",
       "      <td>[]</td>\n",
       "    </tr>\n",
       "    <tr>\n",
       "      <th>32</th>\n",
       "      <td>Quelle est la conformité physico-chimique de l...</td>\n",
       "      <td>physico-chimie</td>\n",
       "      <td>[]</td>\n",
       "    </tr>\n",
       "    <tr>\n",
       "      <th>33</th>\n",
       "      <td>Quelle est la conformité microbiologique de l'...</td>\n",
       "      <td>microbiologique</td>\n",
       "      <td>[]</td>\n",
       "    </tr>\n",
       "    <tr>\n",
       "      <th>34</th>\n",
       "      <td>Quelle est la conformité physico-chimique de l...</td>\n",
       "      <td>physico-chimique</td>\n",
       "      <td>[]</td>\n",
       "    </tr>\n",
       "    <tr>\n",
       "      <th>35</th>\n",
       "      <td>Quel est le total de points de connaissance d...</td>\n",
       "      <td>connaissance</td>\n",
       "      <td>['75', '80', '0', '', '75 120', '20 20']</td>\n",
       "    </tr>\n",
       "    <tr>\n",
       "      <th>36</th>\n",
       "      <td>Quelle est le pourcentage de conformité des di...</td>\n",
       "      <td>dispositifs</td>\n",
       "      <td>['0']</td>\n",
       "    </tr>\n",
       "    <tr>\n",
       "      <th>37</th>\n",
       "      <td>Quel est le prix de service au m3 pour l'eau p...</td>\n",
       "      <td>prix</td>\n",
       "      <td>['199.08 260.01', '1 0,15 0,50', '']</td>\n",
       "    </tr>\n",
       "    <tr>\n",
       "      <th>38</th>\n",
       "      <td>Quel est le prix du service au m3 pour l'assin...</td>\n",
       "      <td>prix</td>\n",
       "      <td>['2 2019', '30 2019', '2.69']</td>\n",
       "    </tr>\n",
       "    <tr>\n",
       "      <th>39</th>\n",
       "      <td>Quelle est la connaissance du réseau en eau po...</td>\n",
       "      <td>connaissance</td>\n",
       "      <td>['', '', '', '', '1000']</td>\n",
       "    </tr>\n",
       "    <tr>\n",
       "      <th>40</th>\n",
       "      <td>Quel est le taux de connaissance du réseau en ...</td>\n",
       "      <td>connaissance</td>\n",
       "      <td>['75', '80', '75', '0', '75 120', '0 10']</td>\n",
       "    </tr>\n",
       "    <tr>\n",
       "      <th>41</th>\n",
       "      <td>Quel est le taux de renouvellement des réseaux...</td>\n",
       "      <td>renouvellement</td>\n",
       "      <td>['2 2019', '', '2019', '0', '', '20178 45']</td>\n",
       "    </tr>\n",
       "    <tr>\n",
       "      <th>42</th>\n",
       "      <td>Quel est le taux de renouvellement des réseaux...</td>\n",
       "      <td>renouvellement</td>\n",
       "      <td>['98', '', '61', '', '0', '']</td>\n",
       "    </tr>\n",
       "    <tr>\n",
       "      <th>43</th>\n",
       "      <td>Quelle est la conformité microbiologique de l'...</td>\n",
       "      <td>conformité</td>\n",
       "      <td>['2019 16']</td>\n",
       "    </tr>\n",
       "    <tr>\n",
       "      <th>44</th>\n",
       "      <td>Quelle est la conformité physico-chimique de l...</td>\n",
       "      <td>conformité</td>\n",
       "      <td>['2019 16']</td>\n",
       "    </tr>\n",
       "    <tr>\n",
       "      <th>45</th>\n",
       "      <td>Quel est le rendement du réseau de distributio...</td>\n",
       "      <td>rendement</td>\n",
       "      <td>['98', '73,8']</td>\n",
       "    </tr>\n",
       "    <tr>\n",
       "      <th>46</th>\n",
       "      <td>Quel est la conformité dispositifs assinisseme...</td>\n",
       "      <td>conformité</td>\n",
       "      <td>['', '2019 15', '', '0 10', '0']</td>\n",
       "    </tr>\n",
       "  </tbody>\n",
       "</table>\n",
       "</div>"
      ],
      "text/plain": [
       "                                             question                mot   \n",
       "0   Quel est le prix de service au m3 pour l'eau p...               prix  \\\n",
       "1   Quel est le prix du service au m3 pour l'assin...               prix   \n",
       "2   Quelle est la connaissance du réseau en eau po...       connaissance   \n",
       "3   Quel est le taux de connaissance du réseau en ...       connaissance   \n",
       "4   Quel est le taux de renouvellement des réseaux...     renouvellement   \n",
       "5   Quel est le taux de renouvellement des réseaux...     renouvellement   \n",
       "6   Quelle est la conformité microbiologique de l'...         conformité   \n",
       "7   Quelle est la conformité physico-chimique de l...         conformité   \n",
       "8   Quel est le rendement du réseau de distribution?           rendement   \n",
       "9   Quel est la conformité dispositifs assinisseme...         conformité   \n",
       "10                    Quelle est la valeur de D102.0?             D102.0   \n",
       "11                    Quelle est la valeur de D204.0?             D204.0   \n",
       "12                    Quelle est la valeur de P103.2?             P103.2   \n",
       "13                   Quelle est la valeur de P202.2 ?             P202.2   \n",
       "14                    Quelle est la valeur de P107.2?             P107.2   \n",
       "15                    Quelle est la valeur de P253.2?             P253.2   \n",
       "16                    Quelle est la valeur de P101.1?             P101.1   \n",
       "17                   Quelle est la valeur de P102.1?              P102.1   \n",
       "18                    Quelle est la valeur de P104.3?             P104.3   \n",
       "19                    Quelle est la valeur de P301.3?             P301.3   \n",
       "20       Quelle est la valeur de l'indicateur D102.0?             D102.0   \n",
       "21       Quelle est la valeur de l'indicateur D104.0?             D104.0   \n",
       "22       Quelle est la valeur de l'indicateur P103.2?             P103.2   \n",
       "23       Quelle est la valeur de l'indicateur P202.2?             P202.2   \n",
       "24       Quelle est la valeur de l'indicateur P107.2?             P107.2   \n",
       "25       Quelle est la valeur de l'indicateur P253.2?             P253.2   \n",
       "26       Quelle est la valeur de l'indicateur P101.1?             P101.1   \n",
       "27       Quelle est la valeur de l'indicateur P102.1?             P102.1   \n",
       "28       Quelle est la valeur de l'indicateur P104.3?             P104.3   \n",
       "29       Quelle est la valeur de l'indicateur P301.3?             P301.3   \n",
       "30   Quel est le taux de conformité des dispositif...          coformité   \n",
       "31  Quelle est la conformité microbiologique de l'...      microbiologie   \n",
       "32  Quelle est la conformité physico-chimique de l...     physico-chimie   \n",
       "33  Quelle est la conformité microbiologique de l'...    microbiologique   \n",
       "34  Quelle est la conformité physico-chimique de l...   physico-chimique   \n",
       "35   Quel est le total de points de connaissance d...       connaissance   \n",
       "36  Quelle est le pourcentage de conformité des di...        dispositifs   \n",
       "37  Quel est le prix de service au m3 pour l'eau p...               prix   \n",
       "38  Quel est le prix du service au m3 pour l'assin...               prix   \n",
       "39  Quelle est la connaissance du réseau en eau po...       connaissance   \n",
       "40  Quel est le taux de connaissance du réseau en ...       connaissance   \n",
       "41  Quel est le taux de renouvellement des réseaux...     renouvellement   \n",
       "42  Quel est le taux de renouvellement des réseaux...     renouvellement   \n",
       "43  Quelle est la conformité microbiologique de l'...         conformité   \n",
       "44  Quelle est la conformité physico-chimique de l...         conformité   \n",
       "45  Quel est le rendement du réseau de distributio...          rendement   \n",
       "46  Quel est la conformité dispositifs assinisseme...         conformité   \n",
       "\n",
       "                                           pred  \n",
       "0                       ['', '1 0,15 0,50', '']  \n",
       "1    ['105.90 130.11 36.72', '1 0,15 0,50', '']  \n",
       "2                  ['2019', '', '', '', '0 10']  \n",
       "3           ['75', '80', '', '75 120', '20 20']  \n",
       "4               ['98', '', '', '', '0 120', '']  \n",
       "5          ['98', '', '6.1 7', '', '0 120', '']  \n",
       "6                                   ['2019 16']  \n",
       "7                                   ['2019 16']  \n",
       "8                                ['98', '73,8']  \n",
       "9             ['', '2019 16', '', '0 100', '0']  \n",
       "10                                           []  \n",
       "11                                ['2.69', '0']  \n",
       "12                                           []  \n",
       "13                            ['75', '75', '0']  \n",
       "14                                           []  \n",
       "15                                   ['2', '0']  \n",
       "16                                           []  \n",
       "17                                           []  \n",
       "18                                           []  \n",
       "19                                           []  \n",
       "20                                           []  \n",
       "21                                           []  \n",
       "22                                           []  \n",
       "23                            ['75', '75', '0']  \n",
       "24                                           []  \n",
       "25                              ['2', '0', '0']  \n",
       "26                                           []  \n",
       "27                                           []  \n",
       "28                                           []  \n",
       "29                                           []  \n",
       "30                                           []  \n",
       "31                                           []  \n",
       "32                                           []  \n",
       "33                                           []  \n",
       "34                                           []  \n",
       "35     ['75', '80', '0', '', '75 120', '20 20']  \n",
       "36                                        ['0']  \n",
       "37         ['199.08 260.01', '1 0,15 0,50', '']  \n",
       "38                ['2 2019', '30 2019', '2.69']  \n",
       "39                     ['', '', '', '', '1000']  \n",
       "40    ['75', '80', '75', '0', '75 120', '0 10']  \n",
       "41  ['2 2019', '', '2019', '0', '', '20178 45']  \n",
       "42                ['98', '', '61', '', '0', '']  \n",
       "43                                  ['2019 16']  \n",
       "44                                  ['2019 16']  \n",
       "45                               ['98', '73,8']  \n",
       "46             ['', '2019 15', '', '0 10', '0']  "
      ]
     },
     "execution_count": 11,
     "metadata": {},
     "output_type": "execute_result"
    }
   ],
   "source": [
    "pred.drop(columns={\"Unnamed: 0.1\",\"Unnamed: 0\"})"
   ]
  },
  {
   "cell_type": "code",
   "execution_count": 16,
   "id": "c12b3358-2e5a-4243-8035-0bf6e1ec45c1",
   "metadata": {},
   "outputs": [
    {
     "ename": "KeyError",
     "evalue": "'valeur'",
     "output_type": "error",
     "traceback": [
      "\u001b[0;31m---------------------------------------------------------------------------\u001b[0m",
      "\u001b[0;31mKeyError\u001b[0m                                  Traceback (most recent call last)",
      "File \u001b[0;32m/opt/mamba/lib/python3.10/site-packages/pandas/core/indexes/base.py:3652\u001b[0m, in \u001b[0;36mIndex.get_loc\u001b[0;34m(self, key)\u001b[0m\n\u001b[1;32m   3651\u001b[0m \u001b[38;5;28;01mtry\u001b[39;00m:\n\u001b[0;32m-> 3652\u001b[0m     \u001b[38;5;28;01mreturn\u001b[39;00m \u001b[38;5;28;43mself\u001b[39;49m\u001b[38;5;241;43m.\u001b[39;49m\u001b[43m_engine\u001b[49m\u001b[38;5;241;43m.\u001b[39;49m\u001b[43mget_loc\u001b[49m\u001b[43m(\u001b[49m\u001b[43mcasted_key\u001b[49m\u001b[43m)\u001b[49m\n\u001b[1;32m   3653\u001b[0m \u001b[38;5;28;01mexcept\u001b[39;00m \u001b[38;5;167;01mKeyError\u001b[39;00m \u001b[38;5;28;01mas\u001b[39;00m err:\n",
      "File \u001b[0;32m/opt/mamba/lib/python3.10/site-packages/pandas/_libs/index.pyx:147\u001b[0m, in \u001b[0;36mpandas._libs.index.IndexEngine.get_loc\u001b[0;34m()\u001b[0m\n",
      "File \u001b[0;32m/opt/mamba/lib/python3.10/site-packages/pandas/_libs/index.pyx:176\u001b[0m, in \u001b[0;36mpandas._libs.index.IndexEngine.get_loc\u001b[0;34m()\u001b[0m\n",
      "File \u001b[0;32mpandas/_libs/hashtable_class_helper.pxi:7080\u001b[0m, in \u001b[0;36mpandas._libs.hashtable.PyObjectHashTable.get_item\u001b[0;34m()\u001b[0m\n",
      "File \u001b[0;32mpandas/_libs/hashtable_class_helper.pxi:7088\u001b[0m, in \u001b[0;36mpandas._libs.hashtable.PyObjectHashTable.get_item\u001b[0;34m()\u001b[0m\n",
      "\u001b[0;31mKeyError\u001b[0m: 'valeur'",
      "\nThe above exception was the direct cause of the following exception:\n",
      "\u001b[0;31mKeyError\u001b[0m                                  Traceback (most recent call last)",
      "Cell \u001b[0;32mIn[16], line 2\u001b[0m\n\u001b[1;32m      1\u001b[0m \u001b[38;5;28;01mfor\u001b[39;00m i \u001b[38;5;129;01min\u001b[39;00m pred\u001b[38;5;241m.\u001b[39mindex:\n\u001b[0;32m----> 2\u001b[0m     pred[\u001b[38;5;124m'\u001b[39m\u001b[38;5;124mvaleur\u001b[39m\u001b[38;5;124m'\u001b[39m][i]\u001b[38;5;241m=\u001b[39m [item\u001b[38;5;241m.\u001b[39msplit(\u001b[38;5;124m'\u001b[39m\u001b[38;5;124m \u001b[39m\u001b[38;5;124m'\u001b[39m) \u001b[38;5;28;01mfor\u001b[39;00m item \u001b[38;5;129;01min\u001b[39;00m \u001b[43mpred\u001b[49m\u001b[43m[\u001b[49m\u001b[38;5;124;43m'\u001b[39;49m\u001b[38;5;124;43mvaleur\u001b[39;49m\u001b[38;5;124;43m'\u001b[39;49m\u001b[43m]\u001b[49m[i]]\n\u001b[1;32m      3\u001b[0m \u001b[38;5;28;01mfor\u001b[39;00m l \u001b[38;5;129;01min\u001b[39;00m pred1\u001b[38;5;241m.\u001b[39mindex:\n\u001b[1;32m      4\u001b[0m     temp\u001b[38;5;241m=\u001b[39m[]\n",
      "File \u001b[0;32m/opt/mamba/lib/python3.10/site-packages/pandas/core/frame.py:3761\u001b[0m, in \u001b[0;36mDataFrame.__getitem__\u001b[0;34m(self, key)\u001b[0m\n\u001b[1;32m   3759\u001b[0m \u001b[38;5;28;01mif\u001b[39;00m \u001b[38;5;28mself\u001b[39m\u001b[38;5;241m.\u001b[39mcolumns\u001b[38;5;241m.\u001b[39mnlevels \u001b[38;5;241m>\u001b[39m \u001b[38;5;241m1\u001b[39m:\n\u001b[1;32m   3760\u001b[0m     \u001b[38;5;28;01mreturn\u001b[39;00m \u001b[38;5;28mself\u001b[39m\u001b[38;5;241m.\u001b[39m_getitem_multilevel(key)\n\u001b[0;32m-> 3761\u001b[0m indexer \u001b[38;5;241m=\u001b[39m \u001b[38;5;28;43mself\u001b[39;49m\u001b[38;5;241;43m.\u001b[39;49m\u001b[43mcolumns\u001b[49m\u001b[38;5;241;43m.\u001b[39;49m\u001b[43mget_loc\u001b[49m\u001b[43m(\u001b[49m\u001b[43mkey\u001b[49m\u001b[43m)\u001b[49m\n\u001b[1;32m   3762\u001b[0m \u001b[38;5;28;01mif\u001b[39;00m is_integer(indexer):\n\u001b[1;32m   3763\u001b[0m     indexer \u001b[38;5;241m=\u001b[39m [indexer]\n",
      "File \u001b[0;32m/opt/mamba/lib/python3.10/site-packages/pandas/core/indexes/base.py:3654\u001b[0m, in \u001b[0;36mIndex.get_loc\u001b[0;34m(self, key)\u001b[0m\n\u001b[1;32m   3652\u001b[0m     \u001b[38;5;28;01mreturn\u001b[39;00m \u001b[38;5;28mself\u001b[39m\u001b[38;5;241m.\u001b[39m_engine\u001b[38;5;241m.\u001b[39mget_loc(casted_key)\n\u001b[1;32m   3653\u001b[0m \u001b[38;5;28;01mexcept\u001b[39;00m \u001b[38;5;167;01mKeyError\u001b[39;00m \u001b[38;5;28;01mas\u001b[39;00m err:\n\u001b[0;32m-> 3654\u001b[0m     \u001b[38;5;28;01mraise\u001b[39;00m \u001b[38;5;167;01mKeyError\u001b[39;00m(key) \u001b[38;5;28;01mfrom\u001b[39;00m \u001b[38;5;21;01merr\u001b[39;00m\n\u001b[1;32m   3655\u001b[0m \u001b[38;5;28;01mexcept\u001b[39;00m \u001b[38;5;167;01mTypeError\u001b[39;00m:\n\u001b[1;32m   3656\u001b[0m     \u001b[38;5;66;03m# If we have a listlike key, _check_indexing_error will raise\u001b[39;00m\n\u001b[1;32m   3657\u001b[0m     \u001b[38;5;66;03m#  InvalidIndexError. Otherwise we fall through and re-raise\u001b[39;00m\n\u001b[1;32m   3658\u001b[0m     \u001b[38;5;66;03m#  the TypeError.\u001b[39;00m\n\u001b[1;32m   3659\u001b[0m     \u001b[38;5;28mself\u001b[39m\u001b[38;5;241m.\u001b[39m_check_indexing_error(key)\n",
      "\u001b[0;31mKeyError\u001b[0m: 'valeur'"
     ]
    }
   ],
   "source": [
    "for i in pred.index:\n",
    "    pred['valeur'][i]= [item.split(' ') for item in pred['valeur'][i]]\n",
    "for l in pred1.index:\n",
    "    temp=[]\n",
    "    for i in pred['valeur'][l]:\n",
    "        for j in i:\n",
    "            temp.append(j)\n",
    "    pred['valeur'][l]=temp\n",
    "for l in pred.index:\n",
    "    for i in pred['valeur'][l]:\n",
    "        if (i==''):\n",
    "            pred['valeur'][l].remove(i)"
   ]
  },
  {
   "cell_type": "code",
   "execution_count": null,
   "id": "f13ec8a7-f2c5-427b-9de7-318229de96c7",
   "metadata": {},
   "outputs": [],
   "source": []
  }
 ],
 "metadata": {
  "kernelspec": {
   "display_name": "Python 3 (ipykernel)",
   "language": "python",
   "name": "python3"
  },
  "language_info": {
   "codemirror_mode": {
    "name": "ipython",
    "version": 3
   },
   "file_extension": ".py",
   "mimetype": "text/x-python",
   "name": "python",
   "nbconvert_exporter": "python",
   "pygments_lexer": "ipython3",
   "version": "3.10.9"
  }
 },
 "nbformat": 4,
 "nbformat_minor": 5
}
